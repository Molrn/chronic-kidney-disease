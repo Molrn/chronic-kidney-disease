{
 "cells": [
  {
   "attachments": {},
   "cell_type": "markdown",
   "metadata": {},
   "source": [
    "# Data cleaning\n",
    "## Import original dataset"
   ]
  },
  {
   "cell_type": "code",
   "execution_count": 4,
   "metadata": {
    "ExecuteTime": {
     "start_time": "2023-04-28T00:14:48.289172Z",
     "end_time": "2023-04-28T00:14:48.381794Z"
    }
   },
   "outputs": [
    {
     "data": {
      "text/plain": "      id   age    bp     sg   al   su     rbc        pc         pcc  \\\n0      0  48.0  80.0  1.020  1.0  0.0     NaN    normal  notpresent   \n1      1   7.0  50.0  1.020  4.0  0.0     NaN    normal  notpresent   \n2      2  62.0  80.0  1.010  2.0  3.0  normal    normal  notpresent   \n3      3  48.0  70.0  1.005  4.0  0.0  normal  abnormal     present   \n4      4  51.0  80.0  1.010  2.0  0.0  normal    normal  notpresent   \n..   ...   ...   ...    ...  ...  ...     ...       ...         ...   \n395  395  55.0  80.0  1.020  0.0  0.0  normal    normal  notpresent   \n396  396  42.0  70.0  1.025  0.0  0.0  normal    normal  notpresent   \n397  397  12.0  80.0  1.020  0.0  0.0  normal    normal  notpresent   \n398  398  17.0  60.0  1.025  0.0  0.0  normal    normal  notpresent   \n399  399  58.0  80.0  1.025  0.0  0.0  normal    normal  notpresent   \n\n             ba  ...  pcv    wc   rc  htn   dm  cad appet   pe  ane  \\\n0    notpresent  ...   44  7800  5.2  yes  yes   no  good   no   no   \n1    notpresent  ...   38  6000  NaN   no   no   no  good   no   no   \n2    notpresent  ...   31  7500  NaN   no  yes   no  poor   no  yes   \n3    notpresent  ...   32  6700  3.9  yes   no   no  poor  yes  yes   \n4    notpresent  ...   35  7300  4.6   no   no   no  good   no   no   \n..          ...  ...  ...   ...  ...  ...  ...  ...   ...  ...  ...   \n395  notpresent  ...   47  6700  4.9   no   no   no  good   no   no   \n396  notpresent  ...   54  7800  6.2   no   no   no  good   no   no   \n397  notpresent  ...   49  6600  5.4   no   no   no  good   no   no   \n398  notpresent  ...   51  7200  5.9   no   no   no  good   no   no   \n399  notpresent  ...   53  6800  6.1   no   no   no  good   no   no   \n\n    classification  \n0              ckd  \n1              ckd  \n2              ckd  \n3              ckd  \n4              ckd  \n..             ...  \n395         notckd  \n396         notckd  \n397         notckd  \n398         notckd  \n399         notckd  \n\n[400 rows x 26 columns]",
      "text/html": "<div>\n<style scoped>\n    .dataframe tbody tr th:only-of-type {\n        vertical-align: middle;\n    }\n\n    .dataframe tbody tr th {\n        vertical-align: top;\n    }\n\n    .dataframe thead th {\n        text-align: right;\n    }\n</style>\n<table border=\"1\" class=\"dataframe\">\n  <thead>\n    <tr style=\"text-align: right;\">\n      <th></th>\n      <th>id</th>\n      <th>age</th>\n      <th>bp</th>\n      <th>sg</th>\n      <th>al</th>\n      <th>su</th>\n      <th>rbc</th>\n      <th>pc</th>\n      <th>pcc</th>\n      <th>ba</th>\n      <th>...</th>\n      <th>pcv</th>\n      <th>wc</th>\n      <th>rc</th>\n      <th>htn</th>\n      <th>dm</th>\n      <th>cad</th>\n      <th>appet</th>\n      <th>pe</th>\n      <th>ane</th>\n      <th>classification</th>\n    </tr>\n  </thead>\n  <tbody>\n    <tr>\n      <th>0</th>\n      <td>0</td>\n      <td>48.0</td>\n      <td>80.0</td>\n      <td>1.020</td>\n      <td>1.0</td>\n      <td>0.0</td>\n      <td>NaN</td>\n      <td>normal</td>\n      <td>notpresent</td>\n      <td>notpresent</td>\n      <td>...</td>\n      <td>44</td>\n      <td>7800</td>\n      <td>5.2</td>\n      <td>yes</td>\n      <td>yes</td>\n      <td>no</td>\n      <td>good</td>\n      <td>no</td>\n      <td>no</td>\n      <td>ckd</td>\n    </tr>\n    <tr>\n      <th>1</th>\n      <td>1</td>\n      <td>7.0</td>\n      <td>50.0</td>\n      <td>1.020</td>\n      <td>4.0</td>\n      <td>0.0</td>\n      <td>NaN</td>\n      <td>normal</td>\n      <td>notpresent</td>\n      <td>notpresent</td>\n      <td>...</td>\n      <td>38</td>\n      <td>6000</td>\n      <td>NaN</td>\n      <td>no</td>\n      <td>no</td>\n      <td>no</td>\n      <td>good</td>\n      <td>no</td>\n      <td>no</td>\n      <td>ckd</td>\n    </tr>\n    <tr>\n      <th>2</th>\n      <td>2</td>\n      <td>62.0</td>\n      <td>80.0</td>\n      <td>1.010</td>\n      <td>2.0</td>\n      <td>3.0</td>\n      <td>normal</td>\n      <td>normal</td>\n      <td>notpresent</td>\n      <td>notpresent</td>\n      <td>...</td>\n      <td>31</td>\n      <td>7500</td>\n      <td>NaN</td>\n      <td>no</td>\n      <td>yes</td>\n      <td>no</td>\n      <td>poor</td>\n      <td>no</td>\n      <td>yes</td>\n      <td>ckd</td>\n    </tr>\n    <tr>\n      <th>3</th>\n      <td>3</td>\n      <td>48.0</td>\n      <td>70.0</td>\n      <td>1.005</td>\n      <td>4.0</td>\n      <td>0.0</td>\n      <td>normal</td>\n      <td>abnormal</td>\n      <td>present</td>\n      <td>notpresent</td>\n      <td>...</td>\n      <td>32</td>\n      <td>6700</td>\n      <td>3.9</td>\n      <td>yes</td>\n      <td>no</td>\n      <td>no</td>\n      <td>poor</td>\n      <td>yes</td>\n      <td>yes</td>\n      <td>ckd</td>\n    </tr>\n    <tr>\n      <th>4</th>\n      <td>4</td>\n      <td>51.0</td>\n      <td>80.0</td>\n      <td>1.010</td>\n      <td>2.0</td>\n      <td>0.0</td>\n      <td>normal</td>\n      <td>normal</td>\n      <td>notpresent</td>\n      <td>notpresent</td>\n      <td>...</td>\n      <td>35</td>\n      <td>7300</td>\n      <td>4.6</td>\n      <td>no</td>\n      <td>no</td>\n      <td>no</td>\n      <td>good</td>\n      <td>no</td>\n      <td>no</td>\n      <td>ckd</td>\n    </tr>\n    <tr>\n      <th>...</th>\n      <td>...</td>\n      <td>...</td>\n      <td>...</td>\n      <td>...</td>\n      <td>...</td>\n      <td>...</td>\n      <td>...</td>\n      <td>...</td>\n      <td>...</td>\n      <td>...</td>\n      <td>...</td>\n      <td>...</td>\n      <td>...</td>\n      <td>...</td>\n      <td>...</td>\n      <td>...</td>\n      <td>...</td>\n      <td>...</td>\n      <td>...</td>\n      <td>...</td>\n      <td>...</td>\n    </tr>\n    <tr>\n      <th>395</th>\n      <td>395</td>\n      <td>55.0</td>\n      <td>80.0</td>\n      <td>1.020</td>\n      <td>0.0</td>\n      <td>0.0</td>\n      <td>normal</td>\n      <td>normal</td>\n      <td>notpresent</td>\n      <td>notpresent</td>\n      <td>...</td>\n      <td>47</td>\n      <td>6700</td>\n      <td>4.9</td>\n      <td>no</td>\n      <td>no</td>\n      <td>no</td>\n      <td>good</td>\n      <td>no</td>\n      <td>no</td>\n      <td>notckd</td>\n    </tr>\n    <tr>\n      <th>396</th>\n      <td>396</td>\n      <td>42.0</td>\n      <td>70.0</td>\n      <td>1.025</td>\n      <td>0.0</td>\n      <td>0.0</td>\n      <td>normal</td>\n      <td>normal</td>\n      <td>notpresent</td>\n      <td>notpresent</td>\n      <td>...</td>\n      <td>54</td>\n      <td>7800</td>\n      <td>6.2</td>\n      <td>no</td>\n      <td>no</td>\n      <td>no</td>\n      <td>good</td>\n      <td>no</td>\n      <td>no</td>\n      <td>notckd</td>\n    </tr>\n    <tr>\n      <th>397</th>\n      <td>397</td>\n      <td>12.0</td>\n      <td>80.0</td>\n      <td>1.020</td>\n      <td>0.0</td>\n      <td>0.0</td>\n      <td>normal</td>\n      <td>normal</td>\n      <td>notpresent</td>\n      <td>notpresent</td>\n      <td>...</td>\n      <td>49</td>\n      <td>6600</td>\n      <td>5.4</td>\n      <td>no</td>\n      <td>no</td>\n      <td>no</td>\n      <td>good</td>\n      <td>no</td>\n      <td>no</td>\n      <td>notckd</td>\n    </tr>\n    <tr>\n      <th>398</th>\n      <td>398</td>\n      <td>17.0</td>\n      <td>60.0</td>\n      <td>1.025</td>\n      <td>0.0</td>\n      <td>0.0</td>\n      <td>normal</td>\n      <td>normal</td>\n      <td>notpresent</td>\n      <td>notpresent</td>\n      <td>...</td>\n      <td>51</td>\n      <td>7200</td>\n      <td>5.9</td>\n      <td>no</td>\n      <td>no</td>\n      <td>no</td>\n      <td>good</td>\n      <td>no</td>\n      <td>no</td>\n      <td>notckd</td>\n    </tr>\n    <tr>\n      <th>399</th>\n      <td>399</td>\n      <td>58.0</td>\n      <td>80.0</td>\n      <td>1.025</td>\n      <td>0.0</td>\n      <td>0.0</td>\n      <td>normal</td>\n      <td>normal</td>\n      <td>notpresent</td>\n      <td>notpresent</td>\n      <td>...</td>\n      <td>53</td>\n      <td>6800</td>\n      <td>6.1</td>\n      <td>no</td>\n      <td>no</td>\n      <td>no</td>\n      <td>good</td>\n      <td>no</td>\n      <td>no</td>\n      <td>notckd</td>\n    </tr>\n  </tbody>\n</table>\n<p>400 rows × 26 columns</p>\n</div>"
     },
     "metadata": {},
     "output_type": "display_data"
    }
   ],
   "source": [
    "import pandas as pd\n",
    "\n",
    "kidney_disease = pd.read_csv(r'Data/original_dataset.csv')\n",
    "display(kidney_disease)"
   ]
  },
  {
   "attachments": {},
   "cell_type": "markdown",
   "metadata": {},
   "source": [
    "## Rename columns"
   ]
  },
  {
   "cell_type": "code",
   "execution_count": 5,
   "metadata": {
    "ExecuteTime": {
     "start_time": "2023-04-28T00:14:48.314955Z",
     "end_time": "2023-04-28T00:14:48.385668Z"
    }
   },
   "outputs": [],
   "source": [
    "kidney_disease.columns = ['id', 'age', 'blood_pressure', 'specific_gravity', 'albumin', 'sugar',\n",
    "       'red_blood_cells', 'pus_cell', 'pus_cell_clumps', 'bacteria',\n",
    "       'blood_glucose_random', 'blood_urea', 'serum_creatinine', 'sodium',\n",
    "       'potassium', 'hemoglobin', 'packed_cell_volume',\n",
    "       'white_blood_cell_count', 'red_blood_cell_count', 'hypertension',\n",
    "       'diabetes_mellitus', 'coronary_artery_disease', 'appetite',\n",
    "       'peda_edema', 'aanemia', 'classification']"
   ]
  },
  {
   "attachments": {},
   "cell_type": "markdown",
   "metadata": {},
   "source": [
    "## Type standardization\n",
    "### String numerical columns --> numerical values"
   ]
  },
  {
   "cell_type": "code",
   "execution_count": 6,
   "metadata": {
    "ExecuteTime": {
     "start_time": "2023-04-28T00:14:48.319464Z",
     "end_time": "2023-04-28T00:14:48.385733Z"
    }
   },
   "outputs": [],
   "source": [
    "str_num_cols = ['packed_cell_volume', 'white_blood_cell_count', 'red_blood_cell_count']\n",
    "for col in str_num_cols:\n",
    "    kidney_disease[col]=pd.to_numeric(kidney_disease[col], errors='coerce')"
   ]
  },
  {
   "attachments": {},
   "cell_type": "markdown",
   "metadata": {},
   "source": [
    "### String columns cleaning\n",
    "#### User controlled way"
   ]
  },
  {
   "cell_type": "code",
   "execution_count": 7,
   "metadata": {
    "ExecuteTime": {
     "start_time": "2023-04-28T00:14:48.324073Z",
     "end_time": "2023-04-28T00:14:48.386162Z"
    }
   },
   "outputs": [
    {
     "data": {
      "text/plain": "'\\nfor column in string_columns:\\n    distinct_values =  kidney_disease[column].dropna().unique()\\n    first_check = True\\n    print(distinct_values)\\n    while len(distinct_values) > 2 :\\n        if first_check:\\n            print(\\'\\n\\' + column + \\':\\')\\n            first_check = False\\n        else:\\n            print(\\'Column not yet boolean, please retry\\n\\')\\n        for value in distinct_values:\\n            is_replaced = input(\"\\t- \\'\" + value + \"\\' : replace? (y/N)\")\\n            if is_replaced == \\'y\\':\\n                replacement = input(\\'\\t  replace by: \\')\\n                kidney_disease[column] = kidney_disease[column].replace(value, replacement)\\n        distinct_values =  kidney_disease[column].dropna().unique()\\nprint(\\'\\nBoolean columns now all contain only 2 distinct not-null values\\')\\n'"
     },
     "execution_count": 7,
     "metadata": {},
     "output_type": "execute_result"
    }
   ],
   "source": [
    "\n",
    "string_columns = ['red_blood_cells', 'pus_cell', 'pus_cell_clumps', 'bacteria', 'hypertension', 'diabetes_mellitus', 'coronary_artery_disease', 'appetite', 'peda_edema', 'aanemia', 'classification']\n",
    "'''\n",
    "for column in string_columns:\n",
    "    distinct_values =  kidney_disease[column].dropna().unique()\n",
    "    first_check = True\n",
    "    print(distinct_values)\n",
    "    while len(distinct_values) > 2 :\n",
    "        if first_check:\n",
    "            print('\\n' + column + ':')\n",
    "            first_check = False\n",
    "        else:\n",
    "            print('Column not yet boolean, please retry\\n')\n",
    "        for value in distinct_values:\n",
    "            is_replaced = input(\"\\t- '\" + value + \"' : replace? (y/N)\")\n",
    "            if is_replaced == 'y':\n",
    "                replacement = input('\\t  replace by: ')\n",
    "                kidney_disease[column] = kidney_disease[column].replace(value, replacement)\n",
    "        distinct_values =  kidney_disease[column].dropna().unique()\n",
    "print('\\nBoolean columns now all contain only 2 distinct not-null values')\n",
    "'''"
   ]
  },
  {
   "attachments": {},
   "cell_type": "markdown",
   "metadata": {},
   "source": [
    "#### Iterative way"
   ]
  },
  {
   "cell_type": "code",
   "execution_count": 8,
   "metadata": {
    "ExecuteTime": {
     "start_time": "2023-04-28T00:14:48.326921Z",
     "end_time": "2023-04-28T00:14:48.386206Z"
    }
   },
   "outputs": [],
   "source": [
    "kidney_disease['classification'] =  kidney_disease['classification'].replace(['ckd\\t'], ['ckd'])\n",
    "kidney_disease['coronary_artery_disease'] =  kidney_disease['coronary_artery_disease'].replace(['\\tno'], ['no'])\n",
    "kidney_disease['diabetes_mellitus'] =  kidney_disease['diabetes_mellitus'].replace([' yes','\\tno','\\tyes'], ['yes','no','yes'])"
   ]
  },
  {
   "attachments": {},
   "cell_type": "markdown",
   "metadata": {},
   "source": [
    "### String encoding\n",
    "#### User controlled way\n",
    "This way allows to keep some integrity in the data. For example, if yes is encoded as 1 in a column, it will also be encoded as 1 in another column, which we can't make sure of with automatic encoding.\n",
    "As all string columns in the dataset are boolean columns, values can here be replaced by True / False."
   ]
  },
  {
   "cell_type": "code",
   "execution_count": 9,
   "metadata": {
    "ExecuteTime": {
     "start_time": "2023-04-28T00:14:48.333634Z",
     "end_time": "2023-04-28T00:14:55.110513Z"
    }
   },
   "outputs": [
    {
     "name": "stdout",
     "output_type": "stream",
     "text": [
      "red_blood_cells : ['normal' 'abnormal'] --> [True, False]\n",
      "\t- normal --> True\n",
      "\t- abnormal --> False\n",
      "\n",
      "pus_cell : ['normal' 'abnormal'] --> [True, False]\n",
      "\t- normal --> True\n",
      "\t- abnormal --> False\n",
      "\n",
      "pus_cell_clumps : ['notpresent' 'present'] --> [True, False]\n",
      "\t- notpresent --> True\n",
      "\t- present --> False\n",
      "\n",
      "bacteria : ['notpresent' 'present'] --> [True, False]\n",
      "\t- notpresent --> True\n",
      "\t- present --> False\n",
      "\n",
      "hypertension : ['yes' 'no'] --> [True, False]\n",
      "\t- yes --> True\n",
      "\t- no --> False\n",
      "\n",
      "diabetes_mellitus : ['yes' 'no'] --> [True, False]\n",
      "\t- yes --> True\n",
      "\t- no --> False\n",
      "\n",
      "coronary_artery_disease : ['no' 'yes'] --> [True, False]\n",
      "\t- no --> True\n",
      "\t- yes --> False\n",
      "\n",
      "appetite : ['good' 'poor'] --> [True, False]\n",
      "\t- good --> True\n",
      "\t- poor --> False\n",
      "\n",
      "peda_edema : ['no' 'yes'] --> [True, False]\n",
      "\t- no --> True\n",
      "\t- yes --> False\n",
      "\n",
      "aanemia : ['no' 'yes'] --> [True, False]\n",
      "\t- no --> True\n",
      "\t- yes --> False\n",
      "\n"
     ]
    }
   ],
   "source": [
    "boolean_columns = string_columns\n",
    "for column in [col for col in boolean_columns if col != \"classification\"]:\n",
    "    distinct_values =  kidney_disease[column].dropna().unique()\n",
    "    order = True\n",
    "    print(column + ' : ' + str(distinct_values) + ' --> ' + str([order, not order]))\n",
    "    is_reversed = input(\"Confirm order or reverse ? (C/r)\")\n",
    "    if is_reversed == 'r':\n",
    "        order = not order\n",
    "    kidney_disease[column] = kidney_disease[column].replace(distinct_values[0], order)\n",
    "    print('\\t- ' + distinct_values[0] + ' --> ' + str(order))\n",
    "    kidney_disease[column] = kidney_disease[column].replace(distinct_values[1], not order)\n",
    "    print('\\t- ' + distinct_values[1] + ' --> ' + str(not order) + '\\n')"
   ]
  },
  {
   "attachments": {},
   "cell_type": "markdown",
   "metadata": {},
   "source": [
    "#### Automatic way"
   ]
  },
  {
   "cell_type": "code",
   "execution_count": 10,
   "metadata": {
    "ExecuteTime": {
     "start_time": "2023-04-28T00:14:55.088507Z",
     "end_time": "2023-04-28T00:14:55.110638Z"
    }
   },
   "outputs": [],
   "source": [
    "# TODO Encode all of the strings with LabelEncoder"
   ]
  },
  {
   "attachments": {},
   "cell_type": "markdown",
   "metadata": {},
   "source": [
    "## Null values handling\n",
    "### Split columns into continuous and discrete variables"
   ]
  },
  {
   "cell_type": "code",
   "execution_count": 11,
   "metadata": {
    "ExecuteTime": {
     "start_time": "2023-04-28T00:14:55.091752Z",
     "end_time": "2023-04-28T00:14:55.110747Z"
    }
   },
   "outputs": [
    {
     "name": "stdout",
     "output_type": "stream",
     "text": [
      "Continuous Columns:\n",
      " id  - age  - blood_pressure  - specific_gravity  - albumin  - sugar  - blood_glucose_random  - blood_urea  - serum_creatinine  - sodium  - potassium  - hemoglobin  - packed_cell_volume  - white_blood_cell_count  - red_blood_cell_count\n",
      "\n",
      "Discrete Columns:\n",
      " red_blood_cells  - pus_cell  - pus_cell_clumps  - bacteria  - hypertension  - diabetes_mellitus  - coronary_artery_disease  - appetite  - peda_edema  - aanemia  - classification\n"
     ]
    }
   ],
   "source": [
    "continuous_cols = kidney_disease.select_dtypes(include=['float64', 'int64']).columns.tolist()\n",
    "discrete_cols = kidney_disease.select_dtypes(include=['object']).columns.tolist()\n",
    "\n",
    "print(\"Continuous Columns:\\n\", \"  - \".join(continuous_cols))\n",
    "print(\"\\nDiscrete Columns:\\n\", \"  - \".join(discrete_cols))"
   ]
  },
  {
   "attachments": {},
   "cell_type": "markdown",
   "metadata": {},
   "source": [
    "### Continuous variables"
   ]
  },
  {
   "attachments": {},
   "cell_type": "markdown",
   "metadata": {},
   "source": [
    "**for features with few null values (<10%) we replaced by the mode**\n",
    "- Mode is preferable to the mean in our case because a lot of variables have big outlier"
   ]
  },
  {
   "cell_type": "code",
   "execution_count": 12,
   "metadata": {
    "ExecuteTime": {
     "start_time": "2023-04-28T00:14:55.100237Z",
     "end_time": "2023-04-28T00:14:55.110784Z"
    }
   },
   "outputs": [],
   "source": [
    "for col in continuous_cols:\n",
    "    if (kidney_disease[col].isna().sum() / len(kidney_disease))*100 <=10:\n",
    "        mode=kidney_disease[col].mode()[0]\n",
    "        kidney_disease[col] = kidney_disease[col].fillna(mode)"
   ]
  },
  {
   "cell_type": "code",
   "execution_count": 13,
   "metadata": {
    "ExecuteTime": {
     "start_time": "2023-04-28T00:14:55.107780Z",
     "end_time": "2023-04-28T00:14:55.114945Z"
    }
   },
   "outputs": [
    {
     "data": {
      "text/plain": "id                          0\nage                         0\nblood_pressure              0\nspecific_gravity           47\nalbumin                    46\nsugar                      49\nblood_glucose_random       44\nblood_urea                  0\nserum_creatinine            0\nsodium                     87\npotassium                  88\nhemoglobin                 52\npacked_cell_volume         71\nwhite_blood_cell_count    106\nred_blood_cell_count      131\ndtype: int64"
     },
     "execution_count": 13,
     "metadata": {},
     "output_type": "execute_result"
    }
   ],
   "source": [
    "kidney_disease[continuous_cols].isnull().sum()"
   ]
  },
  {
   "cell_type": "markdown",
   "metadata": {},
   "source": [
    "### Discrete variable"
   ]
  },
  {
   "cell_type": "markdown",
   "metadata": {},
   "source": [
    "for features with not a lot of null value we replaced them by the big categories (less and equal then 10%)"
   ]
  },
  {
   "cell_type": "markdown",
   "metadata": {},
   "source": [
    "### Null rows verification"
   ]
  },
  {
   "cell_type": "code",
   "execution_count": 14,
   "metadata": {
    "ExecuteTime": {
     "start_time": "2023-04-28T00:14:55.115587Z",
     "end_time": "2023-04-28T00:14:55.118000Z"
    }
   },
   "outputs": [
    {
     "data": {
      "text/plain": "id                          0.00\nage                         0.00\nblood_pressure              0.00\nspecific_gravity           11.75\nalbumin                    11.50\nsugar                      12.25\nred_blood_cells            38.00\npus_cell                   16.25\npus_cell_clumps             1.00\nbacteria                    1.00\nblood_glucose_random       11.00\nblood_urea                  0.00\nserum_creatinine            0.00\nsodium                     21.75\npotassium                  22.00\nhemoglobin                 13.00\npacked_cell_volume         17.75\nwhite_blood_cell_count     26.50\nred_blood_cell_count       32.75\nhypertension                0.50\ndiabetes_mellitus           0.50\ncoronary_artery_disease     0.50\nappetite                    0.25\npeda_edema                  0.25\naanemia                     0.25\nclassification              0.00\ndtype: float64"
     },
     "execution_count": 14,
     "metadata": {},
     "output_type": "execute_result"
    }
   ],
   "source": [
    "(kidney_disease.isnull().sum() / len(kidney_disease))*100"
   ]
  },
  {
   "cell_type": "markdown",
   "metadata": {},
   "source": [
    "## Drop irrelevant columns"
   ]
  },
  {
   "cell_type": "code",
   "execution_count": 15,
   "metadata": {
    "ExecuteTime": {
     "start_time": "2023-04-28T00:14:55.118736Z",
     "end_time": "2023-04-28T00:14:55.120829Z"
    }
   },
   "outputs": [],
   "source": [
    "# Delete the column id -> no need for the ID it will not improve the detection\n",
    "useless_columns = ['id']\n",
    "kidney_disease.drop(useless_columns, inplace=True, axis=1)"
   ]
  },
  {
   "cell_type": "markdown",
   "metadata": {},
   "source": [
    "## Scaling"
   ]
  },
  {
   "cell_type": "markdown",
   "source": [
    "The RobustScaler from scikit-learn preprocessing module is chosen as the scaling method because the dataset contains outliers."
   ],
   "metadata": {
    "collapsed": false
   }
  },
  {
   "cell_type": "code",
   "execution_count": 16,
   "metadata": {},
   "outputs": [
    {
     "ename": "ValueError",
     "evalue": "could not convert string to float: 'ckd'",
     "output_type": "error",
     "traceback": [
      "\u001B[0;31m---------------------------------------------------------------------------\u001B[0m",
      "\u001B[0;31mValueError\u001B[0m                                Traceback (most recent call last)",
      "Cell \u001B[0;32mIn[16], line 5\u001B[0m\n\u001B[1;32m      1\u001B[0m \u001B[38;5;28;01mfrom\u001B[39;00m \u001B[38;5;21;01msklearn\u001B[39;00m\u001B[38;5;21;01m.\u001B[39;00m\u001B[38;5;21;01mpreprocessing\u001B[39;00m \u001B[38;5;28;01mimport\u001B[39;00m RobustScaler\n\u001B[1;32m      3\u001B[0m scaler \u001B[38;5;241m=\u001B[39m RobustScaler()\n\u001B[0;32m----> 5\u001B[0m kidney_disease \u001B[38;5;241m=\u001B[39m \u001B[43mscaler\u001B[49m\u001B[38;5;241;43m.\u001B[39;49m\u001B[43mfit_transform\u001B[49m\u001B[43m(\u001B[49m\u001B[43mkidney_disease\u001B[49m\u001B[43m)\u001B[49m\n",
      "File \u001B[0;32m~/anaconda3/envs/DS50/lib/python3.8/site-packages/sklearn/utils/_set_output.py:140\u001B[0m, in \u001B[0;36m_wrap_method_output.<locals>.wrapped\u001B[0;34m(self, X, *args, **kwargs)\u001B[0m\n\u001B[1;32m    138\u001B[0m \u001B[38;5;129m@wraps\u001B[39m(f)\n\u001B[1;32m    139\u001B[0m \u001B[38;5;28;01mdef\u001B[39;00m \u001B[38;5;21mwrapped\u001B[39m(\u001B[38;5;28mself\u001B[39m, X, \u001B[38;5;241m*\u001B[39margs, \u001B[38;5;241m*\u001B[39m\u001B[38;5;241m*\u001B[39mkwargs):\n\u001B[0;32m--> 140\u001B[0m     data_to_wrap \u001B[38;5;241m=\u001B[39m \u001B[43mf\u001B[49m\u001B[43m(\u001B[49m\u001B[38;5;28;43mself\u001B[39;49m\u001B[43m,\u001B[49m\u001B[43m \u001B[49m\u001B[43mX\u001B[49m\u001B[43m,\u001B[49m\u001B[43m \u001B[49m\u001B[38;5;241;43m*\u001B[39;49m\u001B[43margs\u001B[49m\u001B[43m,\u001B[49m\u001B[43m \u001B[49m\u001B[38;5;241;43m*\u001B[39;49m\u001B[38;5;241;43m*\u001B[39;49m\u001B[43mkwargs\u001B[49m\u001B[43m)\u001B[49m\n\u001B[1;32m    141\u001B[0m     \u001B[38;5;28;01mif\u001B[39;00m \u001B[38;5;28misinstance\u001B[39m(data_to_wrap, \u001B[38;5;28mtuple\u001B[39m):\n\u001B[1;32m    142\u001B[0m         \u001B[38;5;66;03m# only wrap the first output for cross decomposition\u001B[39;00m\n\u001B[1;32m    143\u001B[0m         \u001B[38;5;28;01mreturn\u001B[39;00m (\n\u001B[1;32m    144\u001B[0m             _wrap_data_with_container(method, data_to_wrap[\u001B[38;5;241m0\u001B[39m], X, \u001B[38;5;28mself\u001B[39m),\n\u001B[1;32m    145\u001B[0m             \u001B[38;5;241m*\u001B[39mdata_to_wrap[\u001B[38;5;241m1\u001B[39m:],\n\u001B[1;32m    146\u001B[0m         )\n",
      "File \u001B[0;32m~/anaconda3/envs/DS50/lib/python3.8/site-packages/sklearn/base.py:878\u001B[0m, in \u001B[0;36mTransformerMixin.fit_transform\u001B[0;34m(self, X, y, **fit_params)\u001B[0m\n\u001B[1;32m    874\u001B[0m \u001B[38;5;66;03m# non-optimized default implementation; override when a better\u001B[39;00m\n\u001B[1;32m    875\u001B[0m \u001B[38;5;66;03m# method is possible for a given clustering algorithm\u001B[39;00m\n\u001B[1;32m    876\u001B[0m \u001B[38;5;28;01mif\u001B[39;00m y \u001B[38;5;129;01mis\u001B[39;00m \u001B[38;5;28;01mNone\u001B[39;00m:\n\u001B[1;32m    877\u001B[0m     \u001B[38;5;66;03m# fit method of arity 1 (unsupervised transformation)\u001B[39;00m\n\u001B[0;32m--> 878\u001B[0m     \u001B[38;5;28;01mreturn\u001B[39;00m \u001B[38;5;28;43mself\u001B[39;49m\u001B[38;5;241;43m.\u001B[39;49m\u001B[43mfit\u001B[49m\u001B[43m(\u001B[49m\u001B[43mX\u001B[49m\u001B[43m,\u001B[49m\u001B[43m \u001B[49m\u001B[38;5;241;43m*\u001B[39;49m\u001B[38;5;241;43m*\u001B[39;49m\u001B[43mfit_params\u001B[49m\u001B[43m)\u001B[49m\u001B[38;5;241m.\u001B[39mtransform(X)\n\u001B[1;32m    879\u001B[0m \u001B[38;5;28;01melse\u001B[39;00m:\n\u001B[1;32m    880\u001B[0m     \u001B[38;5;66;03m# fit method of arity 2 (supervised transformation)\u001B[39;00m\n\u001B[1;32m    881\u001B[0m     \u001B[38;5;28;01mreturn\u001B[39;00m \u001B[38;5;28mself\u001B[39m\u001B[38;5;241m.\u001B[39mfit(X, y, \u001B[38;5;241m*\u001B[39m\u001B[38;5;241m*\u001B[39mfit_params)\u001B[38;5;241m.\u001B[39mtransform(X)\n",
      "File \u001B[0;32m~/anaconda3/envs/DS50/lib/python3.8/site-packages/sklearn/preprocessing/_data.py:1516\u001B[0m, in \u001B[0;36mRobustScaler.fit\u001B[0;34m(self, X, y)\u001B[0m\n\u001B[1;32m   1512\u001B[0m \u001B[38;5;28mself\u001B[39m\u001B[38;5;241m.\u001B[39m_validate_params()\n\u001B[1;32m   1514\u001B[0m \u001B[38;5;66;03m# at fit, convert sparse matrices to csc for optimized computation of\u001B[39;00m\n\u001B[1;32m   1515\u001B[0m \u001B[38;5;66;03m# the quantiles\u001B[39;00m\n\u001B[0;32m-> 1516\u001B[0m X \u001B[38;5;241m=\u001B[39m \u001B[38;5;28;43mself\u001B[39;49m\u001B[38;5;241;43m.\u001B[39;49m\u001B[43m_validate_data\u001B[49m\u001B[43m(\u001B[49m\n\u001B[1;32m   1517\u001B[0m \u001B[43m    \u001B[49m\u001B[43mX\u001B[49m\u001B[43m,\u001B[49m\n\u001B[1;32m   1518\u001B[0m \u001B[43m    \u001B[49m\u001B[43maccept_sparse\u001B[49m\u001B[38;5;241;43m=\u001B[39;49m\u001B[38;5;124;43m\"\u001B[39;49m\u001B[38;5;124;43mcsc\u001B[39;49m\u001B[38;5;124;43m\"\u001B[39;49m\u001B[43m,\u001B[49m\n\u001B[1;32m   1519\u001B[0m \u001B[43m    \u001B[49m\u001B[43mdtype\u001B[49m\u001B[38;5;241;43m=\u001B[39;49m\u001B[43mFLOAT_DTYPES\u001B[49m\u001B[43m,\u001B[49m\n\u001B[1;32m   1520\u001B[0m \u001B[43m    \u001B[49m\u001B[43mforce_all_finite\u001B[49m\u001B[38;5;241;43m=\u001B[39;49m\u001B[38;5;124;43m\"\u001B[39;49m\u001B[38;5;124;43mallow-nan\u001B[39;49m\u001B[38;5;124;43m\"\u001B[39;49m\u001B[43m,\u001B[49m\n\u001B[1;32m   1521\u001B[0m \u001B[43m\u001B[49m\u001B[43m)\u001B[49m\n\u001B[1;32m   1523\u001B[0m q_min, q_max \u001B[38;5;241m=\u001B[39m \u001B[38;5;28mself\u001B[39m\u001B[38;5;241m.\u001B[39mquantile_range\n\u001B[1;32m   1524\u001B[0m \u001B[38;5;28;01mif\u001B[39;00m \u001B[38;5;129;01mnot\u001B[39;00m \u001B[38;5;241m0\u001B[39m \u001B[38;5;241m<\u001B[39m\u001B[38;5;241m=\u001B[39m q_min \u001B[38;5;241m<\u001B[39m\u001B[38;5;241m=\u001B[39m q_max \u001B[38;5;241m<\u001B[39m\u001B[38;5;241m=\u001B[39m \u001B[38;5;241m100\u001B[39m:\n",
      "File \u001B[0;32m~/anaconda3/envs/DS50/lib/python3.8/site-packages/sklearn/base.py:565\u001B[0m, in \u001B[0;36mBaseEstimator._validate_data\u001B[0;34m(self, X, y, reset, validate_separately, **check_params)\u001B[0m\n\u001B[1;32m    563\u001B[0m     \u001B[38;5;28;01mraise\u001B[39;00m \u001B[38;5;167;01mValueError\u001B[39;00m(\u001B[38;5;124m\"\u001B[39m\u001B[38;5;124mValidation should be done on X, y or both.\u001B[39m\u001B[38;5;124m\"\u001B[39m)\n\u001B[1;32m    564\u001B[0m \u001B[38;5;28;01melif\u001B[39;00m \u001B[38;5;129;01mnot\u001B[39;00m no_val_X \u001B[38;5;129;01mand\u001B[39;00m no_val_y:\n\u001B[0;32m--> 565\u001B[0m     X \u001B[38;5;241m=\u001B[39m \u001B[43mcheck_array\u001B[49m\u001B[43m(\u001B[49m\u001B[43mX\u001B[49m\u001B[43m,\u001B[49m\u001B[43m \u001B[49m\u001B[43minput_name\u001B[49m\u001B[38;5;241;43m=\u001B[39;49m\u001B[38;5;124;43m\"\u001B[39;49m\u001B[38;5;124;43mX\u001B[39;49m\u001B[38;5;124;43m\"\u001B[39;49m\u001B[43m,\u001B[49m\u001B[43m \u001B[49m\u001B[38;5;241;43m*\u001B[39;49m\u001B[38;5;241;43m*\u001B[39;49m\u001B[43mcheck_params\u001B[49m\u001B[43m)\u001B[49m\n\u001B[1;32m    566\u001B[0m     out \u001B[38;5;241m=\u001B[39m X\n\u001B[1;32m    567\u001B[0m \u001B[38;5;28;01melif\u001B[39;00m no_val_X \u001B[38;5;129;01mand\u001B[39;00m \u001B[38;5;129;01mnot\u001B[39;00m no_val_y:\n",
      "File \u001B[0;32m~/anaconda3/envs/DS50/lib/python3.8/site-packages/sklearn/utils/validation.py:879\u001B[0m, in \u001B[0;36mcheck_array\u001B[0;34m(array, accept_sparse, accept_large_sparse, dtype, order, copy, force_all_finite, ensure_2d, allow_nd, ensure_min_samples, ensure_min_features, estimator, input_name)\u001B[0m\n\u001B[1;32m    877\u001B[0m         array \u001B[38;5;241m=\u001B[39m xp\u001B[38;5;241m.\u001B[39mastype(array, dtype, copy\u001B[38;5;241m=\u001B[39m\u001B[38;5;28;01mFalse\u001B[39;00m)\n\u001B[1;32m    878\u001B[0m     \u001B[38;5;28;01melse\u001B[39;00m:\n\u001B[0;32m--> 879\u001B[0m         array \u001B[38;5;241m=\u001B[39m \u001B[43m_asarray_with_order\u001B[49m\u001B[43m(\u001B[49m\u001B[43marray\u001B[49m\u001B[43m,\u001B[49m\u001B[43m \u001B[49m\u001B[43morder\u001B[49m\u001B[38;5;241;43m=\u001B[39;49m\u001B[43morder\u001B[49m\u001B[43m,\u001B[49m\u001B[43m \u001B[49m\u001B[43mdtype\u001B[49m\u001B[38;5;241;43m=\u001B[39;49m\u001B[43mdtype\u001B[49m\u001B[43m,\u001B[49m\u001B[43m \u001B[49m\u001B[43mxp\u001B[49m\u001B[38;5;241;43m=\u001B[39;49m\u001B[43mxp\u001B[49m\u001B[43m)\u001B[49m\n\u001B[1;32m    880\u001B[0m \u001B[38;5;28;01mexcept\u001B[39;00m ComplexWarning \u001B[38;5;28;01mas\u001B[39;00m complex_warning:\n\u001B[1;32m    881\u001B[0m     \u001B[38;5;28;01mraise\u001B[39;00m \u001B[38;5;167;01mValueError\u001B[39;00m(\n\u001B[1;32m    882\u001B[0m         \u001B[38;5;124m\"\u001B[39m\u001B[38;5;124mComplex data not supported\u001B[39m\u001B[38;5;130;01m\\n\u001B[39;00m\u001B[38;5;132;01m{}\u001B[39;00m\u001B[38;5;130;01m\\n\u001B[39;00m\u001B[38;5;124m\"\u001B[39m\u001B[38;5;241m.\u001B[39mformat(array)\n\u001B[1;32m    883\u001B[0m     ) \u001B[38;5;28;01mfrom\u001B[39;00m \u001B[38;5;21;01mcomplex_warning\u001B[39;00m\n",
      "File \u001B[0;32m~/anaconda3/envs/DS50/lib/python3.8/site-packages/sklearn/utils/_array_api.py:185\u001B[0m, in \u001B[0;36m_asarray_with_order\u001B[0;34m(array, dtype, order, copy, xp)\u001B[0m\n\u001B[1;32m    182\u001B[0m     xp, _ \u001B[38;5;241m=\u001B[39m get_namespace(array)\n\u001B[1;32m    183\u001B[0m \u001B[38;5;28;01mif\u001B[39;00m xp\u001B[38;5;241m.\u001B[39m\u001B[38;5;18m__name__\u001B[39m \u001B[38;5;129;01min\u001B[39;00m {\u001B[38;5;124m\"\u001B[39m\u001B[38;5;124mnumpy\u001B[39m\u001B[38;5;124m\"\u001B[39m, \u001B[38;5;124m\"\u001B[39m\u001B[38;5;124mnumpy.array_api\u001B[39m\u001B[38;5;124m\"\u001B[39m}:\n\u001B[1;32m    184\u001B[0m     \u001B[38;5;66;03m# Use NumPy API to support order\u001B[39;00m\n\u001B[0;32m--> 185\u001B[0m     array \u001B[38;5;241m=\u001B[39m \u001B[43mnumpy\u001B[49m\u001B[38;5;241;43m.\u001B[39;49m\u001B[43masarray\u001B[49m\u001B[43m(\u001B[49m\u001B[43marray\u001B[49m\u001B[43m,\u001B[49m\u001B[43m \u001B[49m\u001B[43morder\u001B[49m\u001B[38;5;241;43m=\u001B[39;49m\u001B[43morder\u001B[49m\u001B[43m,\u001B[49m\u001B[43m \u001B[49m\u001B[43mdtype\u001B[49m\u001B[38;5;241;43m=\u001B[39;49m\u001B[43mdtype\u001B[49m\u001B[43m)\u001B[49m\n\u001B[1;32m    186\u001B[0m     \u001B[38;5;28;01mreturn\u001B[39;00m xp\u001B[38;5;241m.\u001B[39masarray(array, copy\u001B[38;5;241m=\u001B[39mcopy)\n\u001B[1;32m    187\u001B[0m \u001B[38;5;28;01melse\u001B[39;00m:\n",
      "File \u001B[0;32m~/anaconda3/envs/DS50/lib/python3.8/site-packages/pandas/core/generic.py:2070\u001B[0m, in \u001B[0;36mNDFrame.__array__\u001B[0;34m(self, dtype)\u001B[0m\n\u001B[1;32m   2069\u001B[0m \u001B[38;5;28;01mdef\u001B[39;00m \u001B[38;5;21m__array__\u001B[39m(\u001B[38;5;28mself\u001B[39m, dtype: npt\u001B[38;5;241m.\u001B[39mDTypeLike \u001B[38;5;241m|\u001B[39m \u001B[38;5;28;01mNone\u001B[39;00m \u001B[38;5;241m=\u001B[39m \u001B[38;5;28;01mNone\u001B[39;00m) \u001B[38;5;241m-\u001B[39m\u001B[38;5;241m>\u001B[39m np\u001B[38;5;241m.\u001B[39mndarray:\n\u001B[0;32m-> 2070\u001B[0m     \u001B[38;5;28;01mreturn\u001B[39;00m \u001B[43mnp\u001B[49m\u001B[38;5;241;43m.\u001B[39;49m\u001B[43masarray\u001B[49m\u001B[43m(\u001B[49m\u001B[38;5;28;43mself\u001B[39;49m\u001B[38;5;241;43m.\u001B[39;49m\u001B[43m_values\u001B[49m\u001B[43m,\u001B[49m\u001B[43m \u001B[49m\u001B[43mdtype\u001B[49m\u001B[38;5;241;43m=\u001B[39;49m\u001B[43mdtype\u001B[49m\u001B[43m)\u001B[49m\n",
      "\u001B[0;31mValueError\u001B[0m: could not convert string to float: 'ckd'"
     ]
    }
   ],
   "source": [
    "from sklearn.preprocessing import RobustScaler\n",
    "\n",
    "scaler = RobustScaler()\n",
    "\n",
    "kidney_disease = scaler.fit_transform(kidney_disease)"
   ]
  },
  {
   "attachments": {},
   "cell_type": "markdown",
   "metadata": {},
   "source": [
    "## Save clean dataset into csv file"
   ]
  },
  {
   "cell_type": "code",
   "execution_count": null,
   "metadata": {},
   "outputs": [],
   "source": [
    "kidney_disease.to_csv('Data/clean_dataset.csv', index=False)"
   ]
  }
 ],
 "metadata": {
  "kernelspec": {
   "display_name": "Python 3",
   "language": "python",
   "name": "python3"
  },
  "language_info": {
   "codemirror_mode": {
    "name": "ipython",
    "version": 3
   },
   "file_extension": ".py",
   "mimetype": "text/x-python",
   "name": "python",
   "nbconvert_exporter": "python",
   "pygments_lexer": "ipython3",
   "version": "3.11.2"
  },
  "orig_nbformat": 4
 },
 "nbformat": 4,
 "nbformat_minor": 2
}
