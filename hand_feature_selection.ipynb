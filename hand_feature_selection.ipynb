{
 "cells": [
  {
   "cell_type": "markdown",
   "metadata": {},
   "source": [
    "# Hand Selection\n",
    "This notebook consists in detailing the most appropriate features from this dataset according to different scientific sources."
   ]
  },
  {
   "cell_type": "code",
   "execution_count": null,
   "metadata": {},
   "outputs": [],
   "source": [
    "import pandas as pd\n",
    "\n",
    "kidney_disease = pd.read_csv(r'Data/original_dataset.csv')\n",
    "kidney_disease.head()"
   ]
  },
  {
   "cell_type": "markdown",
   "metadata": {},
   "source": [
    "## Glomerular Filtration Rate (GFR) estimation\n",
    "A patient is considered to have a chronic kidney disease if his GFR (expressed in mL/min/1.73 m<sup>2</sup>) is below 60. GFR is defined as the sum of the filtration rates of all of the patient's functioning nephrons (filtering units making up the kidneys). If we do not have this information in the dataset, there exists a formula to compute an estimated value of the GFR (eGFR) (source: [A new equation to estimate glomerular filtration rate. Ann Intern Med 2009.](https://www.ncbi.nlm.nih.gov/pmc/articles/PMC2763564/)). The formula is the following:  \n",
    "\n",
    "**eGFR = 141 × min(Scr/κ, 1)<sup>α</sup> × max(Scr/κ, 1)<sup>-1.209</sup> × 0.993<sup>Age</sup> × 1.018 [if female] × 1.159 [if black]**  \n",
    "- α: -0.329 for females and -0.411 for males\n",
    "- κ: 0.7 for females and 0.9 for males\n",
    "- Scr: serum creatinine  \n",
    "\n",
    "This estimation depends on 4 factors: serum creatinine, age, gender and ethnicity. If our dataset contains serum creatinine and age, gender and ethnicity are 2 missing factors. Nonetheless, we can use this estimation as a prediction model.  \n",
    "\n",
    "To do so, for each patient, we compute all the possible eGFR combinations. If all of these estimations agree about the patient being or not being sick, we have a prediction, otherwise we have an unsure record."
   ]
  },
  {
   "cell_type": "code",
   "execution_count": null,
   "metadata": {},
   "outputs": [],
   "source": [
    "# Sex : [F, M] --> [True, False]\n",
    "# Ethnicity : True if person is black, False otherwise\n",
    "def gfr(sex:bool, ethnicity:bool, serum_creatinine:float, age:int):\n",
    "    k = [0.9, 0.7][sex]\n",
    "    alpha = [-0.411, -0.329][sex]\n",
    "    sex_rate = [1, 1.018][sex]\n",
    "    ethnicity_rate = [1, 1.159][ethnicity]\n",
    "    return 141*pow(min(serum_creatinine/k, 1),alpha)*pow(max(serum_creatinine/k, 1),-1.209)*pow(0.993, age)*sex_rate*ethnicity_rate\n",
    "\n",
    "if 'serum_creatinine' in kidney_disease.columns:\n",
    "    kidney_disease = kidney_disease.rename(columns={'serum_creatinine': 'sc'})\n",
    "\n",
    "\n",
    "calc_dict = kidney_disease[['age', 'sc', 'classification']].dropna().to_dict(orient='records')\n",
    "correct_pred = 0\n",
    "wrong_pred = 0\n",
    "unsure = 0\n",
    "for pat in calc_dict:\n",
    "    sick_ma = gfr(True, False, pat['sc'], pat['age']) < 60\n",
    "    sick_fa = gfr(False, False, pat['sc'], pat['age']) < 60\n",
    "    sick_mb = gfr(True, True, pat['sc'], pat['age']) < 60\n",
    "    sick_fb = gfr(False, True, pat['sc'], pat['age']) < 60\n",
    "    sick_all = [sick_ma, sick_fa, sick_mb, sick_fb]\n",
    "    if True not in sick_all :\n",
    "        if pat['classification'] == 'notckd': correct_pred+=1\n",
    "        else : wrong_pred += 1\n",
    "    elif False not in sick_all:\n",
    "        if pat['classification'] in ['ckd', 'ckd\\t']: correct_pred += 1\n",
    "        else: wrong_pred += 1\n",
    "    else:\n",
    "        unsure+=1\n",
    "\n",
    "total_records = len(calc_dict)\n",
    "print('Total not null records :', total_records)\n",
    "print('Correct predicictions :', correct_pred)\n",
    "print('Wrong predictions :', wrong_pred)\n",
    "print('Unsure records :', unsure)\n",
    "print('{:.3f} < Accuracy < {:.3f}'.format(correct_pred/total_records, (correct_pred+unsure)/total_records)) "
   ]
  }
 ],
 "metadata": {
  "kernelspec": {
   "display_name": "Python 3 (ipykernel)",
   "language": "python",
   "name": "python3"
  },
  "language_info": {
   "codemirror_mode": {
    "name": "ipython",
    "version": 3
   },
   "file_extension": ".py",
   "mimetype": "text/x-python",
   "name": "python",
   "nbconvert_exporter": "python",
   "pygments_lexer": "ipython3",
   "version": "3.9.16"
  }
 },
 "nbformat": 4,
 "nbformat_minor": 2
}
