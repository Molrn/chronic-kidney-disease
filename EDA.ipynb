{
 "cells": [
  {
   "cell_type": "code",
   "execution_count": null,
   "id": "a3656899",
   "metadata": {},
   "outputs": [],
   "source": [
    "import pandas as pd\n",
    "\n",
    "kidney_disease = pd.read_csv(r'Data/kidney_disease/original_dataset.csv')"
   ]
  },
  {
   "attachments": {},
   "cell_type": "markdown",
   "id": "aefbff22",
   "metadata": {},
   "source": [
    "# Exploratory Data Analysis"
   ]
  },
  {
   "attachments": {},
   "cell_type": "markdown",
   "metadata": {
    "collapsed": false
   },
   "source": [
    "## Parameters"
   ]
  },
  {
   "cell_type": "code",
   "execution_count": null,
   "metadata": {
    "collapsed": false,
    "is_executing": true
   },
   "outputs": [],
   "source": [
    "# irrelevant columns\n",
    "irrelevant_columns = ['id']"
   ]
  },
  {
   "attachments": {},
   "cell_type": "markdown",
   "metadata": {
    "collapsed": false
   },
   "source": [
    "## Drop irrelevant columns"
   ]
  },
  {
   "cell_type": "code",
   "execution_count": null,
   "metadata": {
    "collapsed": false,
    "is_executing": true
   },
   "outputs": [],
   "source": [
    "kidney_disease = kidney_disease.drop(columns=irrelevant_columns)"
   ]
  },
  {
   "attachments": {},
   "cell_type": "markdown",
   "metadata": {
    "collapsed": false
   },
   "source": [
    "### Shape"
   ]
  },
  {
   "cell_type": "code",
   "execution_count": null,
   "metadata": {
    "collapsed": false
   },
   "outputs": [],
   "source": [
    "kidney_disease.shape"
   ]
  },
  {
   "attachments": {},
   "cell_type": "markdown",
   "metadata": {
    "collapsed": false
   },
   "source": [
    "## Features meaning"
   ]
  },
  {
   "attachments": {},
   "cell_type": "markdown",
   "metadata": {
    "collapsed": false
   },
   "source": [
    "**Note : This step is only relevant in the context of the chronic kidney disease**"
   ]
  },
  {
   "attachments": {},
   "cell_type": "markdown",
   "id": "5b982374",
   "metadata": {},
   "source": [
    "- Specific_gravity:  urine specific gravity results will fall [1.002 , 1.030] if your kidneys are functioning normally (determine how well your kidneys are diluting your urine).\n",
    "\n",
    "    - Higher the number of specific gravity -> dehydrated\n",
    "    - Lower the number of specific gravity ->  hydrated\n",
    "    - Good health = [1.002 , 1.030]\n",
    "\n",
    "\n",
    "- Albumin: is a protein found in the blood. A healthy kidney doesn't let albumin pass from the blood into the urine. A damaged kidney lets some albumin pass into the urine. The less albumin in your urine, the better.\n",
    "\n",
    "\n",
    "    - Good health = 0 (maybe)\n",
    "\n",
    "\n",
    "- Red_blood_cells : (Anemia is common in people who have chronic kidney disease Anemia is common in people who have chronic kidney disease). Red blood cells are made by the bone marrow. To get the marrow to make red blood cells, the kidneys make a hormone called erythropoietin, or EPO. When the kidneys are damaged, they may not make enough EPO. Without enough EPO, the bone marrow does not make enough red blood cells, and you have anemia.\n",
    "\n",
    "\n",
    "    - Normal -> good health\n",
    "    - Abnormal -> sick\n",
    "    \n",
    "\n",
    "- Sugar :\n",
    "\n",
    "\n",
    "    - 0 -> good health\n",
    "    - 0 > (greater then 0) sick (not sure)\n",
    "    \n",
    "\n",
    "- Pus cells are a collection of dead, white blood cells that accumulates when the body’s immune system activates in response to an infection:\n",
    "\n",
    "\n",
    "    - Normal -> small quantite in the urine (health person)\n",
    "    - Abnormal -> not .. (maybe sick)\n",
    "\n",
    "\n",
    "- pus_cell_clumps the present in the urine:\n",
    "\n",
    "\n",
    "    - notpresent -> not sick \n",
    "    - present -> maybe sick\n",
    "    \n",
    "\n",
    "- Bacteria the present in the urine:\n",
    "\n",
    "\n",
    "    - notpresent -> not sick (maybe)\n",
    "    - present -> maybe sick\n",
    "    \n",
    "    \n",
    "\n",
    "- blood_glucose_random the present in the urine:\n",
    "\n",
    "\n",
    "    - the recommended targets for most people are:\n",
    "        - Before meals: 90-130 mg/dL\n",
    "        \n",
    "        \n",
    "    - Two hours after the start of a meal: Below 180 mg/dL\n",
    "        - 90 – 180 -> maybe health\n",
    "        - Else maybe sick\n",
    "\n",
    "\n",
    "\n",
    "- blood urea : Urea nitrogen is a waste product that your kidneys remove from your blood. Higher than normal BUN levels may be a sign that your kidneys aren't working well:\n",
    "\n",
    "\n",
    "    - 7 - 20 mg/dL is a normal level -> maybe healthy\n",
    "    - Else maybe sick  \n",
    "    \n",
    "\n",
    "- pus_cell_clumps the present in the urine:\n",
    "\n",
    "\n",
    "    - notpresent -> not sick \n",
    "    - present -> maybe sick\n"
   ]
  },
  {
   "attachments": {},
   "cell_type": "markdown",
   "metadata": {
    "collapsed": false
   },
   "source": [
    "## Duplicate rows check"
   ]
  },
  {
   "cell_type": "code",
   "execution_count": null,
   "metadata": {
    "collapsed": false
   },
   "outputs": [],
   "source": [
    "# Find duplicate rows\n",
    "duplicates = kidney_disease[kidney_disease.duplicated()]\n",
    "\n",
    "# Print the duplicate rows\n",
    "display(duplicates)"
   ]
  },
  {
   "attachments": {},
   "cell_type": "markdown",
   "metadata": {
    "collapsed": false
   },
   "source": [
    "**Conclusion**\n",
    "- No duplicates"
   ]
  },
  {
   "attachments": {},
   "cell_type": "markdown",
   "id": "1ba852ef",
   "metadata": {},
   "source": [
    "## Features and target type"
   ]
  },
  {
   "cell_type": "code",
   "execution_count": null,
   "id": "024cfe00",
   "metadata": {
    "scrolled": false
   },
   "outputs": [],
   "source": [
    "kidney_disease.dtypes"
   ]
  },
  {
   "attachments": {},
   "cell_type": "markdown",
   "id": "01c7e5b9",
   "metadata": {},
   "source": [
    "**Conclusion :**\n",
    "- We need to handle the features with an object type and convert them to number types (int, float)"
   ]
  },
  {
   "attachments": {},
   "cell_type": "markdown",
   "metadata": {
    "collapsed": false
   },
   "source": [
    "### Feature types : unique values"
   ]
  },
  {
   "attachments": {},
   "cell_type": "markdown",
   "metadata": {
    "collapsed": false
   },
   "source": [
    "For each column that have an object type, we check the unique values"
   ]
  },
  {
   "cell_type": "code",
   "execution_count": null,
   "id": "9153d9e3",
   "metadata": {
    "scrolled": false
   },
   "outputs": [],
   "source": [
    "for col in kidney_disease:\n",
    "    if kidney_disease[col].dtype==object:\n",
    "        print(col+'\\t', kidney_disease[col].unique())"
   ]
  },
  {
   "attachments": {},
   "cell_type": "markdown",
   "id": "f94de0c7",
   "metadata": {},
   "source": [
    "**Conclusion:**\n",
    "    - classification , coronary_artery_disease , diabetes_mellitus : need to change a correct format like ckd\\t become ckd (Noisy)\n",
    "    - red_blood_cell_count , white_blood_cell_count , packed_cell_volume : need to be converted to number"
   ]
  },
  {
   "attachments": {},
   "cell_type": "markdown",
   "id": "a083de45",
   "metadata": {},
   "source": [
    "## Percentage of null value"
   ]
  },
  {
   "cell_type": "code",
   "execution_count": null,
   "id": "3d0b9cac",
   "metadata": {},
   "outputs": [],
   "source": [
    "(kidney_disease.isnull().sum() / len(kidney_disease))*100"
   ]
  },
  {
   "cell_type": "code",
   "execution_count": null,
   "id": "b89f9a27",
   "metadata": {},
   "outputs": [],
   "source": [
    "kidney_disease.dtypes"
   ]
  },
  {
   "attachments": {},
   "cell_type": "markdown",
   "id": "046a2b5a",
   "metadata": {},
   "source": [
    "**Need first to handle empty value before doing correlation because we have some high percentage**"
   ]
  },
  {
   "attachments": {},
   "cell_type": "markdown",
   "metadata": {
    "collapsed": false
   },
   "source": [
    "## Data distribution"
   ]
  },
  {
   "attachments": {},
   "cell_type": "markdown",
   "metadata": {
    "collapsed": false
   },
   "source": [
    "### Numeric features"
   ]
  },
  {
   "cell_type": "code",
   "execution_count": null,
   "metadata": {
    "collapsed": false
   },
   "outputs": [],
   "source": [
    "import matplotlib.pyplot as plt\n",
    "import seaborn as sns\n",
    "\n",
    "continuous_cols = kidney_disease.select_dtypes(include=['float64', 'int64']).columns.tolist()\n",
    "discrete_cols = kidney_disease.select_dtypes(include=['object']).columns.tolist()\n",
    "\n",
    "# The following columns are not discrete\n",
    "discrete_cols.remove('pcv')\n",
    "discrete_cols.remove('wc')\n",
    "discrete_cols.remove('rc')\n",
    "print(\"Continuous Columns:\\n\", \"  - \".join(continuous_cols))\n",
    "print(\"\\nDiscrete Columns:\\n\", \"  - \".join(discrete_cols))\n",
    "\n",
    "fig, axs = plt.subplots(6, 2, figsize=(10, 10))\n",
    "\n",
    "for index,col in enumerate(continuous_cols):\n",
    "\n",
    "    sns.histplot(data=kidney_disease[col],ax=axs[index//2 , index%2] ,kde=True)\n",
    "\n",
    "    # set the title and axis labels\n",
    "    axs[index//2 , index%2].set_title('The distribution of '+ col +' in the dataset ')\n",
    "    axs[index//2 , index%2].set_xlabel(col)\n",
    "    axs[index//2 , index%2].set_ylabel('Frequency')\n",
    "\n",
    "\n",
    "plt.tight_layout()\n",
    "plt.show()"
   ]
  },
  {
   "attachments": {},
   "cell_type": "markdown",
   "metadata": {
    "collapsed": false
   },
   "source": [
    "### Categorical features"
   ]
  },
  {
   "cell_type": "code",
   "execution_count": null,
   "metadata": {
    "collapsed": false
   },
   "outputs": [],
   "source": [
    "import math\n",
    "\n",
    "num_cols = len(discrete_cols)\n",
    "num_rows = math.ceil(num_cols / 2)\n",
    "fig, axes = plt.subplots(nrows=num_rows, ncols=2, figsize=(10, 3*num_rows))\n",
    "axes = axes.flatten()\n",
    "\n",
    "for i, col in enumerate(discrete_cols):\n",
    "    ax = axes[i]\n",
    "    kidney_disease[col].value_counts().plot(kind='bar', ax=ax)\n",
    "    ax.set_title(col)\n",
    "    ax.set_xlabel(col)\n",
    "    ax.set_ylabel('Frequency')\n",
    "\n",
    "# Remove any unused subplots\n",
    "if num_cols < num_rows * 2:\n",
    "    for j in range(num_cols, num_rows * 2):\n",
    "        fig.delaxes(axes[j])\n",
    "\n",
    "fig.tight_layout()\n",
    "plt.show()\n"
   ]
  },
  {
   "attachments": {},
   "cell_type": "markdown",
   "metadata": {
    "collapsed": false
   },
   "source": [
    "## Outliers"
   ]
  },
  {
   "cell_type": "code",
   "execution_count": null,
   "metadata": {
    "collapsed": false
   },
   "outputs": [],
   "source": [
    "import numpy as np\n",
    "\n",
    "# Calculate the first and third quartiles\n",
    "Q1 = kidney_disease.quantile(0.25, numeric_only=True)\n",
    "Q3 = kidney_disease.quantile(0.75, numeric_only=True)\n",
    "\n",
    "# Calculate the IQR\n",
    "IQR = Q3 - Q1\n",
    "\n",
    "# Find the outliers\n",
    "lower_bound = Q1 - 1.5*IQR\n",
    "upper_bound = Q3 + 1.5*IQR\n",
    "outliers = ((kidney_disease < lower_bound) | (kidney_disease > upper_bound)).sum(axis=0)\n",
    "\n",
    "# Check if there are any outliers\n",
    "if outliers.sum() == 0:\n",
    "    print(\"No columns with outliers.\")\n",
    "else:\n",
    "    # Calculate the percentage of data that is an outlier for each column\n",
    "    n_rows = kidney_disease.shape[0]\n",
    "    outliers_percent = outliers/n_rows*100\n",
    "\n",
    "    # Print the columns with outliers and their impact\n",
    "    print(\"Columns with outliers:\")\n",
    "    outliers_df = pd.DataFrame(outliers_percent, index=outliers.index, columns=[\"Outliers (%)\"])\n",
    "    print(outliers_df[outliers_df[\"Outliers (%)\"] > 0])"
   ]
  },
  {
   "attachments": {},
   "cell_type": "markdown",
   "metadata": {
    "collapsed": false
   },
   "source": [
    "### Outliers visualization"
   ]
  },
  {
   "cell_type": "code",
   "execution_count": null,
   "metadata": {
    "collapsed": false
   },
   "outputs": [],
   "source": [
    "import matplotlib.pyplot as plt\n",
    "\n",
    "plt.figure(figsize=(15, 10))\n",
    "sns.boxplot(data=kidney_disease)\n",
    "plt.xticks(rotation=90)\n",
    "plt.title(\"Box Plots of All Columns in the Dataset\")\n",
    "plt.show()"
   ]
  }
 ],
 "metadata": {
  "kernelspec": {
   "display_name": "Python 3 (ipykernel)",
   "language": "python",
   "name": "python3"
  },
  "language_info": {
   "codemirror_mode": {
    "name": "ipython",
    "version": 3
   },
   "file_extension": ".py",
   "mimetype": "text/x-python",
   "name": "python",
   "nbconvert_exporter": "python",
   "pygments_lexer": "ipython3",
   "version": "3.11.2"
  }
 },
 "nbformat": 4,
 "nbformat_minor": 5
}
