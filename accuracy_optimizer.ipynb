{
 "cells": [
  {
   "cell_type": "code",
   "execution_count": 1,
   "id": "a087d874",
   "metadata": {
    "scrolled": true
   },
   "outputs": [],
   "source": [
    "import pandas as pd\n",
    "kidney_disease = pd.read_csv(r'Data/clean_dataset.csv')"
   ]
  },
  {
   "cell_type": "markdown",
   "id": "59514d2f",
   "metadata": {},
   "source": [
    "# Select data and target"
   ]
  },
  {
   "cell_type": "code",
   "execution_count": 2,
   "id": "37e0fda6",
   "metadata": {},
   "outputs": [],
   "source": [
    "kidney_disease_data = kidney_disease[['age', 'hypertension', 'diabetes_mellitus', 'serum_creatinine', 'coronary_artery_disease']]\n",
    "kidney_disease_target = kidney_disease['classification']"
   ]
  },
  {
   "cell_type": "markdown",
   "id": "1caf8a03",
   "metadata": {},
   "source": [
    "# Best fit finder"
   ]
  },
  {
   "cell_type": "code",
   "execution_count": 3,
   "id": "8e2ab61f",
   "metadata": {},
   "outputs": [],
   "source": [
    "from sklearn.base import ClassifierMixin\n",
    "from sklearn.model_selection import train_test_split\n",
    "\n",
    "def split_dataset(test_size):\n",
    "    return train_test_split(\n",
    "        kidney_disease_data, \n",
    "        kidney_disease_target, \n",
    "        test_size=test_size, \n",
    "        random_state=0)\n",
    "\n",
    "def classifier_score_train_test(classifier : ClassifierMixin, test_size):\n",
    "    x_train, x_test, y_train, y_test = split_dataset(test_size)\n",
    "    classifier.fit(x_train, y_train)\n",
    "    return classifier.score(x_test, y_test)\n",
    "\n",
    "\n",
    "def optimize_classifier_train_test(classifier : ClassifierMixin, min_test_size=10, percent_step=1):\n",
    "    test_size_max = 0\n",
    "    accuracy_max = 0\n",
    "    maxed = []\n",
    "    not_runnable = []\n",
    "    for test_size in range(min_test_size, 100):\n",
    "        try:\n",
    "            accuracy = classifier_score_train_test(classifier, test_size*percent_step*0.01)\n",
    "        except:\n",
    "            not_runnable.append(test_size)\n",
    "        else:\n",
    "            if accuracy == 1:\n",
    "                maxed.append(test_size)\n",
    "            if accuracy > accuracy_max:\n",
    "                accuracy_max = accuracy\n",
    "                test_size_max = test_size\n",
    "    if len(maxed) > 1:\n",
    "        print('Warning - classifier max accuracy reached for values:')\n",
    "        print(maxed)\n",
    "    return test_size_max, accuracy_max"
   ]
  },
  {
   "cell_type": "markdown",
   "id": "994574f7",
   "metadata": {},
   "source": [
    "# Split train test"
   ]
  },
  {
   "cell_type": "code",
   "execution_count": 4,
   "id": "c0d70ece",
   "metadata": {},
   "outputs": [],
   "source": [
    "x_train, x_test, y_train, y_test = train_test_split(\n",
    "    kidney_disease_data,\n",
    "    kidney_disease_target,\n",
    "    random_state=0\n",
    ")"
   ]
  },
  {
   "cell_type": "markdown",
   "id": "f369653b",
   "metadata": {},
   "source": [
    "# K-nearest Neighbors"
   ]
  },
  {
   "cell_type": "code",
   "execution_count": 5,
   "id": "0fd693e7",
   "metadata": {},
   "outputs": [
    {
     "name": "stdout",
     "output_type": "stream",
     "text": [
      "Standard accuracy (20% test, 5 neighbors): 0.920\n",
      "Max accuracy (13% test, 1 neighbors): 0.962\n"
     ]
    }
   ],
   "source": [
    "from sklearn.neighbors import KNeighborsClassifier\n",
    "\n",
    "# Standard (0.2 test, 0.8 train, 5 neighbors)\n",
    "knn = KNeighborsClassifier(n_neighbors=5)\n",
    "knn.fit(x_train, y_train)\n",
    "print(\"Standard accuracy (20% test, 5 neighbors): {:.3f}\".format(knn.score(x_test, y_test)))\n",
    "\n",
    "# Optimized\n",
    "neighbors_max = 0\n",
    "classifier_max = 0\n",
    "test_size_max = 0\n",
    "for neighbors in range(1, 20):\n",
    "    test_size_score, classifier_score = optimize_classifier_train_test(KNeighborsClassifier(n_neighbors=neighbors))\n",
    "    if classifier_score > classifier_max:\n",
    "        classifier_max = classifier_score\n",
    "        test_size_max = test_size_score\n",
    "        neighbors_max = neighbors\n",
    "print(\"Max accuracy ({:d}% test, {:d} neighbors): {:.3f}\".format(test_size_max, neighbors_max, classifier_max))"
   ]
  },
  {
   "cell_type": "markdown",
   "id": "a83beb23",
   "metadata": {},
   "source": [
    "# Decision Tree"
   ]
  },
  {
   "cell_type": "code",
   "execution_count": 6,
   "id": "ad99a2a4",
   "metadata": {},
   "outputs": [
    {
     "name": "stdout",
     "output_type": "stream",
     "text": [
      "Standard accuracy (20% test): 0.940\n",
      "Max accuracy (20% test): 0.975\n"
     ]
    }
   ],
   "source": [
    "from sklearn.tree import DecisionTreeClassifier\n",
    "\n",
    "decision_tree = DecisionTreeClassifier(random_state=0)\n",
    "\n",
    "# Standard\n",
    "decision_tree.fit(x_train, y_train)\n",
    "print(\"Standard accuracy (20% test): {:.3f}\".format(decision_tree.score(x_test, y_test)))\n",
    "\n",
    "# Optimized\n",
    "test_size_max, classifier_max = optimize_classifier_train_test(decision_tree)\n",
    "print(\"Max accuracy ({:d}% test): {:.3f}\".format(test_size_max, classifier_max))"
   ]
  },
  {
   "cell_type": "markdown",
   "id": "bf892daa",
   "metadata": {},
   "source": [
    "# Random Forest"
   ]
  },
  {
   "cell_type": "code",
   "execution_count": 7,
   "id": "35cd8fb8",
   "metadata": {},
   "outputs": [
    {
     "name": "stdout",
     "output_type": "stream",
     "text": [
      "Standard accuracy (20% test): 0.940\n",
      "Max accuracy (13% test, 2 trees): 0.981\n"
     ]
    }
   ],
   "source": [
    "from sklearn.ensemble import RandomForestClassifier\n",
    "\n",
    "forest = RandomForestClassifier(n_estimators=5, random_state=0)\n",
    "\n",
    "# Standard\n",
    "forest.fit(x_train, y_train)\n",
    "print(\"Standard accuracy (20% test): {:.3f}\".format(forest.score(x_test, y_test)))\n",
    "\n",
    "# Optimized\n",
    "trees_max = 0\n",
    "classifier_max = 0\n",
    "test_size_max = 0\n",
    "for trees in range(1, 30):\n",
    "    test_size_score, classifier_score = optimize_classifier_train_test(RandomForestClassifier(n_estimators=trees, random_state=0))\n",
    "    if classifier_score > classifier_max:\n",
    "        classifier_max = classifier_score\n",
    "        test_size_max = test_size_score\n",
    "        trees_max = trees\n",
    "print(\"Max accuracy ({:d}% test, {:d} trees): {:.3f}\".format(test_size_max, trees_max, classifier_max))"
   ]
  },
  {
   "cell_type": "markdown",
   "id": "ffd03fd2",
   "metadata": {},
   "source": [
    "# Logistic Regression"
   ]
  },
  {
   "cell_type": "code",
   "execution_count": 8,
   "id": "da76f6f0",
   "metadata": {},
   "outputs": [
    {
     "name": "stdout",
     "output_type": "stream",
     "text": [
      "Standard accuracy (20% test): 0.900\n",
      "Max accuracy (10% test): 0.950\n"
     ]
    }
   ],
   "source": [
    "from sklearn.linear_model import LogisticRegression\n",
    "\n",
    "clf = LogisticRegression(random_state=0)\n",
    "\n",
    "# Standard\n",
    "clf.fit(x_train, y_train)\n",
    "print(\"Standard accuracy (20% test): {:.3f}\".format(clf.score(x_test, y_test)))\n",
    "\n",
    "# Optimized\n",
    "test_size_max, classifier_max = optimize_classifier_train_test(clf)\n",
    "print(\"Max accuracy ({:d}% test): {:.3f}\".format(test_size_max, classifier_max))"
   ]
  }
 ],
 "metadata": {
  "kernelspec": {
   "display_name": "Python 3 (ipykernel)",
   "language": "python",
   "name": "python3"
  },
  "language_info": {
   "codemirror_mode": {
    "name": "ipython",
    "version": 3
   },
   "file_extension": ".py",
   "mimetype": "text/x-python",
   "name": "python",
   "nbconvert_exporter": "python",
   "pygments_lexer": "ipython3",
   "version": "3.11.2"
  }
 },
 "nbformat": 4,
 "nbformat_minor": 5
}
