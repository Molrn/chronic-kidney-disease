{
 "cells": [
  {
   "attachments": {},
   "cell_type": "markdown",
   "id": "a2c452b8",
   "metadata": {},
   "source": [
    "# Feature selection Techniques:\n",
    "\n",
    "This notebook consists in detailing the most appropriate features according to different feature selection techniques\n",
    "\n",
    "## Filter Methods \n",
    "\n",
    "Calaculate the correlations between the features and target attributes\n",
    "\n",
    "### Divide of features into two categories : \n",
    "    - Categorical features (Nominal): albumin - sugar - red_blood_cells  - pus_cell  - pus_cell_clumps  - bacteria  - hypertension  - diabetes_mellitus  - coronary_artery_disease  - appetite  - peda_edema  - aanemia  - classification\n",
    " \n",
    "    - Numearical features (Ordinal) : age  - blood_pressure  - specific_gravity    - blood_glucose_random  - blood_urea  - serum_creatinine  - sodium  - potassium  - hemoglobin  - packed_cell_volume  - white_blood_cell_count  - red_blood_cell_count\n",
    "    \n",
    "\n",
    "To divide them I did check the values in the dataset of each feature and the meaning behind it "
   ]
  },
  {
   "cell_type": "code",
   "execution_count": 3,
   "id": "3fe30ae9",
   "metadata": {},
   "outputs": [],
   "source": [
    "import pandas as pd\n",
    "import seaborn as sns\n",
    "import matplotlib.pyplot as plt\n",
    "import scipy.stats as stats"
   ]
  },
  {
   "cell_type": "code",
   "execution_count": 6,
   "id": "a175531a",
   "metadata": {},
   "outputs": [],
   "source": [
    "clean_df = pd.read_csv(r'Data/clean_dataset.csv')\n",
    "clean_df.head()\n",
    "target='classification'"
   ]
  },
  {
   "cell_type": "code",
   "execution_count": 5,
   "id": "598461e7",
   "metadata": {},
   "outputs": [],
   "source": [
    "cat_features=['albumin' ,\n",
    "              'sugar' ,\n",
    "              'red_blood_cells'  ,\n",
    "              'pus_cell'  ,\n",
    "              'pus_cell_clumps'  ,\n",
    "              'bacteria'  ,\n",
    "              'hypertension'   ,\n",
    "              'diabetes_mellitus'  ,\n",
    "              'coronary_artery_disease'  ,\n",
    "              'appetite'   ,\n",
    "              'peda_edema'  ,\n",
    "              'aanemia']"
   ]
  },
  {
   "cell_type": "code",
   "execution_count": 4,
   "id": "086ac6fd",
   "metadata": {},
   "outputs": [],
   "source": [
    "num_features=['age'  ,\n",
    "              'blood_pressure'  ,\n",
    "              'specific_gravity'    ,\n",
    "              'blood_glucose_random'  ,\n",
    "              'blood_urea'  ,\n",
    "              'serum_creatinine'  ,\n",
    "              'sodium'  ,\n",
    "              'potassium'  ,\n",
    "              'hemoglobin'  ,\n",
    "              'packed_cell_volume',\n",
    "              'white_blood_cell_count'  ,\n",
    "              'red_blood_cell_count']"
   ]
  },
  {
   "attachments": {},
   "cell_type": "markdown",
   "id": "785974af",
   "metadata": {},
   "source": [
    "### Correlation between numerical features (Pearson)"
   ]
  },
  {
   "cell_type": "code",
   "execution_count": null,
   "id": "1e7add8a",
   "metadata": {},
   "outputs": [],
   "source": [
    "corr=clean_df[num_features].corr()\n",
    "\n",
    "plt.figure(figsize=(16, 6))\n",
    "sns.heatmap(corr, annot=True, cmap=plt.cm.Reds)\n",
    "plt.show()"
   ]
  },
  {
   "cell_type": "code",
   "execution_count": null,
   "id": "6d3c6dde",
   "metadata": {},
   "outputs": [],
   "source": [
    "# strongly  correlated feature are 0.7 and more so we will select the thershold = 0.7\n",
    "correlation_threshold=0.7\n",
    "\n",
    "mask = (abs(corr) > correlation_threshold) & (abs(corr) <1)\n",
    "strongly_correlated_features = corr[mask].stack().dropna().reset_index()\n",
    "\n",
    "selected_features = set(strongly_correlated_features['level_0']).union(strongly_correlated_features['level_1'])\n",
    "\n",
    "strongly_correlated_features"
   ]
  },
  {
   "cell_type": "code",
   "execution_count": null,
   "id": "0637ae80",
   "metadata": {},
   "outputs": [],
   "source": [
    "selected_features"
   ]
  },
  {
   "cell_type": "code",
   "execution_count": 12,
   "id": "4f918f43",
   "metadata": {},
   "outputs": [],
   "source": [
    "def maximizeCorrelation(corr,selected_features):\n",
    "    max=0\n",
    "    best_feature_tokeep=''\n",
    "    for feature in selected_features:\n",
    "        s= corr[corr['level_0']==feature][0].sum()\n",
    "        if s > max:\n",
    "            max=s\n",
    "            best_feature_tokeep=feature\n",
    "    return [best_feature_tokeep,max]"
   ]
  },
  {
   "cell_type": "code",
   "execution_count": null,
   "id": "f7778a81",
   "metadata": {},
   "outputs": [],
   "source": [
    "maximizeCorrelation(strongly_correlated_features,selected_features)"
   ]
  },
  {
   "attachments": {},
   "cell_type": "markdown",
   "id": "f9cc5b5e",
   "metadata": {},
   "source": [
    "#### Conclusion:\n",
    "- We can delete 'packed_cell_volume' and 'red_blood_cell_count' features and keep the 'hemoglobin' feature, as it maximizes the desired outcome.\n",
    "- We need to first check the correlation of these features with the target variable before deciding whether to delete them."
   ]
  },
  {
   "attachments": {},
   "cell_type": "markdown",
   "id": "de4659c2",
   "metadata": {},
   "source": [
    "### Correlation between numerical features and  the target (categorical variable) "
   ]
  },
  {
   "cell_type": "code",
   "execution_count": null,
   "id": "37d48cc2",
   "metadata": {},
   "outputs": [],
   "source": [
    "corr=[]\n",
    "for feature in num_features:\n",
    "    pb_corr, pb_p_value = stats.pointbiserialr(\n",
    "        clean_df[feature],\n",
    "        clean_df[target])\n",
    "    print(pb_p_value)\n",
    "    corr.append([feature,abs(pb_corr)])\n",
    "corr=pd.DataFrame(corr,columns=['num_feature','correlation with the target'])\n",
    "\n",
    "corr.sort_values(by='correlation with the target'  ,ascending=False)"
   ]
  },
  {
   "attachments": {},
   "cell_type": "markdown",
   "id": "243570d8",
   "metadata": {},
   "source": [
    "Conclusion:\n",
    "- hemoglobin, specific_gravity ,packed_cell_volume \t,red_blood_cell_count "
   ]
  },
  {
   "cell_type": "code",
   "execution_count": null,
   "id": "ebb78382",
   "metadata": {},
   "outputs": [],
   "source": []
  },
  {
   "cell_type": "code",
   "execution_count": null,
   "id": "5cdb3b7b",
   "metadata": {},
   "outputs": [],
   "source": []
  },
  {
   "cell_type": "code",
   "execution_count": null,
   "id": "a245d6f7",
   "metadata": {},
   "outputs": [],
   "source": []
  },
  {
   "cell_type": "code",
   "execution_count": null,
   "id": "e20c262d",
   "metadata": {},
   "outputs": [],
   "source": []
  },
  {
   "cell_type": "code",
   "execution_count": null,
   "id": "ec7448b6",
   "metadata": {},
   "outputs": [],
   "source": []
  },
  {
   "cell_type": "code",
   "execution_count": null,
   "id": "72a429fd",
   "metadata": {},
   "outputs": [],
   "source": []
  },
  {
   "cell_type": "code",
   "execution_count": null,
   "id": "b91c1e8b",
   "metadata": {},
   "outputs": [],
   "source": []
  },
  {
   "cell_type": "code",
   "execution_count": null,
   "id": "7770ced9",
   "metadata": {},
   "outputs": [],
   "source": []
  },
  {
   "attachments": {},
   "cell_type": "markdown",
   "id": "c40e09ff",
   "metadata": {},
   "source": [
    "# RQ:\n",
    "- Can add LDA (the model finds linear combinations of the features that achieve maximum separability between the classes and minimum variance within each class)\n",
    "- PCA as preprocessing step"
   ]
  }
 ],
 "metadata": {
  "kernelspec": {
   "display_name": "Python 3 (ipykernel)",
   "language": "python",
   "name": "python3"
  },
  "language_info": {
   "codemirror_mode": {
    "name": "ipython",
    "version": 3
   },
   "file_extension": ".py",
   "mimetype": "text/x-python",
   "name": "python",
   "nbconvert_exporter": "python",
   "pygments_lexer": "ipython3",
   "version": "3.9.16"
  }
 },
 "nbformat": 4,
 "nbformat_minor": 5
}
