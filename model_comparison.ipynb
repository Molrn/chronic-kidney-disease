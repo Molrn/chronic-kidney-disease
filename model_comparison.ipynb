{
 "cells": [
  {
   "cell_type": "code",
   "execution_count": null,
   "metadata": {},
   "outputs": [],
   "source": [
    "dataset_name = 'kidney_disease'\n",
    "target_column_name = 'classification' "
   ]
  },
  {
   "attachments": {},
   "cell_type": "markdown",
   "metadata": {},
   "source": [
    "# Model comparison\n",
    "## Load requirements\n",
    "### Load Dataset"
   ]
  },
  {
   "cell_type": "code",
   "execution_count": null,
   "metadata": {},
   "outputs": [],
   "source": [
    "import pandas as pd\n",
    "import json\n",
    "\n",
    "clean_df = pd.read_csv('Data/'+dataset_name+'/clean_dataset.csv')\n",
    "\n",
    "all_features = clean_df.columns.drop(target_column_name)\n",
    "hand_selected_features = ['age','sg','su','bgr','bu','sc','htn','dm','cad']\n",
    "with open('Data/'+dataset_name+'/important_features.json') as f:\n",
    "    important_features = json.load(f) \n",
    "data_df = clean_df[all_features]\n",
    "target_df = clean_df[target_column_name]"
   ]
  },
  {
   "attachments": {},
   "cell_type": "markdown",
   "metadata": {},
   "source": [
    "### Load optimized model parameters"
   ]
  },
  {
   "cell_type": "code",
   "execution_count": null,
   "metadata": {},
   "outputs": [],
   "source": [
    "import json\n",
    "\n",
    "param_file = open('Data/'+dataset_name+'/tuned_hyperparameters.json')\n",
    "models = json.load(param_file)\n",
    "param_file.close()"
   ]
  },
  {
   "attachments": {},
   "cell_type": "markdown",
   "metadata": {},
   "source": [
    "### Import all models"
   ]
  },
  {
   "cell_type": "code",
   "execution_count": null,
   "metadata": {},
   "outputs": [],
   "source": [
    "from sklearn.neighbors import KNeighborsClassifier\n",
    "from sklearn.tree import DecisionTreeClassifier\n",
    "from sklearn.ensemble import RandomForestClassifier\n",
    "from sklearn.linear_model import LogisticRegression\n",
    "from sklearn.naive_bayes import GaussianNB\n",
    "from sklearn.discriminant_analysis import LinearDiscriminantAnalysis"
   ]
  },
  {
   "attachments": {},
   "cell_type": "markdown",
   "metadata": {},
   "source": [
    "## Cross-Validation evaluation"
   ]
  },
  {
   "cell_type": "code",
   "execution_count": null,
   "metadata": {},
   "outputs": [],
   "source": [
    "from sklearn.metrics import make_scorer, precision_score, recall_score\n",
    "from sklearn.model_selection import cross_val_score\n",
    "from statistics import mean\n",
    "import warnings\n",
    "\n",
    "def get_all_models_metrics(features, target, n_cv_folds=10, use_best_params:bool=True):\n",
    "    models_scores = []\n",
    "    for model in models :\n",
    "        model_class =  globals()[model['model_class_name']]\n",
    "        if use_best_params:\n",
    "            model['model'] = model_class(**model['best_params'])\n",
    "        else:\n",
    "            model['model'] = model_class()\n",
    "        with warnings.catch_warnings():\n",
    "            warnings.simplefilter(\"ignore\")\n",
    "            accuracy_scores = cross_val_score(model['model'], features, target, cv=n_cv_folds)\n",
    "\n",
    "            # Calculate the cross-validation precision\n",
    "            precision_scores = cross_val_score(model['model'], features, target, cv=n_cv_folds,\n",
    "                                            scoring=make_scorer(precision_score, average='macro'))\n",
    "\n",
    "            # Calculate the cross-validation recall\n",
    "            recall_scores = cross_val_score(model['model'], features, target, cv=n_cv_folds,\n",
    "                                            scoring=make_scorer(recall_score, average='macro'))\n",
    "\n",
    "        model_scores = {'Model': model['name']}    \n",
    "        \n",
    "        for i, score in enumerate(accuracy_scores):\n",
    "            model_scores['Fold '+str(i+1)] = score\n",
    "\n",
    "        model_scores['Average Accuracy'] = mean(accuracy_scores)\n",
    "        model_scores['Average Precision'] = mean(precision_scores)\n",
    "        model_scores['Average Recall'] = mean(recall_scores)\n",
    "\n",
    "        models_scores.append(model_scores)\n",
    "\n",
    "    return pd.DataFrame.from_dict(models_scores)\n",
    "\n",
    "scores_df = get_all_models_metrics(data_df, target_df)"
   ]
  },
  {
   "attachments": {},
   "cell_type": "markdown",
   "metadata": {},
   "source": [
    "## Trace RoC curves"
   ]
  },
  {
   "cell_type": "code",
   "execution_count": null,
   "metadata": {},
   "outputs": [],
   "source": [
    "from sklearn.metrics import roc_curve\n",
    "from sklearn.metrics import auc\n",
    "from sklearn.model_selection import train_test_split\n",
    "import matplotlib.pyplot as plt\n",
    "import numpy as np\n",
    "import matplotlib as mpl\n",
    "\n",
    "\n",
    "\n",
    "x_train, x_test, y_train, y_test = train_test_split(data_df, target_df, test_size=0.2)\n",
    "\n",
    "if set(y_test.unique()) == set([0, -1]): \n",
    "    y_test = y_test.map({0: 1, -1: 0}).astype(int)\n",
    "for model in models :\n",
    "    model_class =  globals()[model['model_class_name']]\n",
    "    model['model'] = model_class(**model['best_params'])\n",
    "    model['model'].fit(x_train,y_train)\n",
    "\n",
    "    y_scores = model['model'].predict_proba(x_test)\n",
    "\n",
    "    fpr, tpr, threshold = roc_curve(y_test, y_scores[:, 1])\n",
    "    roc_auc = auc(fpr, tpr)\n",
    "    plt.plot(fpr, tpr, label=model['name']+' (%0.2f AUC)' % roc_auc)\n",
    "\n",
    "\n",
    "plt.title('RoC curves per model')\n",
    "plt.legend(loc = 'lower right')\n",
    "plt.plot([0, 1], [0, 1],'r--')\n",
    "plt.xlim([0, 1])\n",
    "plt.ylim([0, 1])\n",
    "plt.ylabel('True Positive Rate')\n",
    "plt.xlabel('False Positive Rate')\n",
    "plt.show()"
   ]
  },
  {
   "attachments": {},
   "cell_type": "markdown",
   "metadata": {},
   "source": [
    "## Display comparison bar plots"
   ]
  },
  {
   "cell_type": "code",
   "execution_count": null,
   "metadata": {},
   "outputs": [],
   "source": [
    "\n",
    "mpl.rcParams['figure.dpi'] = 180\n",
    "labels = scores_df['Model'] \n",
    "y = np.arange(len(labels))\n",
    "bar_height = 0.25\n",
    "fig, ax = plt.subplots()\n",
    "\n",
    "for i, label in enumerate(['Average Accuracy', 'Average Precision', 'Average Recall']):\n",
    "    bars = ax.barh(y + i*bar_height, scores_df[label], height=bar_height, label=label)\n",
    "    ax.bar_label(bars, padding=5)\n",
    "\n",
    "ax.set_xlabel('Metrics')\n",
    "plt.ylabel('Models')\n",
    "ax.set_title('Average Accuracy, Precision and Recall per model (10 folds Cross Validation)')\n",
    "ax.set_yticks(y)\n",
    "ax.set_yticklabels(labels)\n",
    "ax.set_xlim([0.9, 1.02])\n",
    "\n",
    "ax.legend()\n",
    "\n",
    "plt.show()\n"
   ]
  },
  {
   "cell_type": "code",
   "execution_count": null,
   "metadata": {},
   "outputs": [],
   "source": [
    "fig, ax = plt.subplots()\n",
    "\n",
    "models_plot = {\n",
    "    'All features':all_features,\n",
    "    'Hand Selection': hand_selected_features, \n",
    "    'Correlation selection': important_features\n",
    "\n",
    "}\n",
    "for i, label in enumerate(models_plot):\n",
    "    scores_df = get_all_models_metrics(clean_df[models_plot[label]], target_df)\n",
    "    bars = ax.barh(y + i*bar_height, scores_df['Average Accuracy'], height=bar_height, label=label)\n",
    "    ax.bar_label(bars, padding=5)\n",
    "\n",
    "ax.set_xlabel('Metrics')\n",
    "plt.ylabel('Models')\n",
    "ax.set_title('Average 10 folds CV Accuracy per model per feature selection')\n",
    "ax.set_yticks(y)\n",
    "ax.set_yticklabels(labels)\n",
    "ax.set_xlim([0.9, 1.02])\n",
    "ax.legend()\n",
    "plt.show()"
   ]
  },
  {
   "cell_type": "code",
   "execution_count": null,
   "metadata": {},
   "outputs": [],
   "source": [
    "fig, ax = plt.subplots()\n",
    "\n",
    "models_plot = {\n",
    "    'LDA': 'lda_dataset', \n",
    "    'PCA': 'pca_dataset', \n",
    "    'Standard': 'clean_dataset'\n",
    "}\n",
    "for i, label in enumerate(models_plot):\n",
    "    dataset_df = pd.read_csv('Data/'+dataset_name+'/'+models_plot[label]+'.csv')\n",
    "    all_features = dataset_df.columns.drop(target_column_name)\n",
    "    scores_df = get_all_models_metrics(dataset_df[all_features], target_df)\n",
    "    bars = ax.barh(y + i*bar_height, scores_df['Average Accuracy'], height=bar_height, label=label)\n",
    "    ax.bar_label(bars, padding=5)\n",
    "\n",
    "ax.set_xlabel('Metrics')\n",
    "plt.ylabel('Models')\n",
    "ax.set_title('Average 10 folds CV Accuracy per model per feature dataset')\n",
    "ax.set_yticks(y)\n",
    "ax.set_yticklabels(labels)\n",
    "ax.set_xlim([0.92, 1.04])\n",
    "ax.legend()\n",
    "plt.show()\n"
   ]
  },
  {
   "cell_type": "code",
   "execution_count": null,
   "metadata": {},
   "outputs": [],
   "source": [
    "fig, ax = plt.subplots()\n",
    "\n",
    "original_df = pd.read_csv('Data/'+dataset_name+'/original_dataset.csv')\n",
    "\n",
    "for column in original_df.columns:  \n",
    "    original_df[column] = original_df[column].fillna(-1)\n",
    "    if original_df[column].dtype == 'object':\n",
    "        for i, value in enumerate(original_df[column].unique()):            \n",
    "            original_df[column] = original_df[column].replace(value, i)\n",
    "\n",
    "all_features = original_df.columns.drop(target_column_name)\n",
    "\n",
    "models_plot = {\n",
    "    'No Prep': get_all_models_metrics(original_df[all_features], original_df[target_column_name]),\n",
    "    'No Tuning': get_all_models_metrics(data_df, target_df, 10, False), \n",
    "    'No Tuning No Prep' : get_all_models_metrics(original_df[all_features], original_df[target_column_name], 10, False),\n",
    "    'Standard': get_all_models_metrics(data_df, target_df)\n",
    "}\n",
    "bar_height = 0.2\n",
    "for i, label in enumerate(models_plot):\n",
    "    bars = ax.barh(y + i*bar_height, models_plot[label]['Average Accuracy'], height=bar_height, label=label)\n",
    "    ax.bar_label(bars, padding=5)\n",
    "\n",
    "ax.set_xlabel('Metrics')\n",
    "plt.ylabel('Models')\n",
    "ax.set_title('Average Accuracy per model per missing pipeline step')\n",
    "ax.set_yticks(y)\n",
    "ax.set_yticklabels(labels)\n",
    "ax.set_xlim([0.91, 1.03])\n",
    "ax.legend()\n",
    "plt.show()\n"
   ]
  }
 ],
 "metadata": {
  "kernelspec": {
   "display_name": "Python 3",
   "language": "python",
   "name": "python3"
  },
  "language_info": {
   "codemirror_mode": {
    "name": "ipython",
    "version": 3
   },
   "file_extension": ".py",
   "mimetype": "text/x-python",
   "name": "python",
   "nbconvert_exporter": "python",
   "pygments_lexer": "ipython3",
   "version": "3.11.3"
  },
  "orig_nbformat": 4
 },
 "nbformat": 4,
 "nbformat_minor": 2
}
