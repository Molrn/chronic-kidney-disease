{
 "cells": [
  {
   "attachments": {},
   "cell_type": "markdown",
   "metadata": {},
   "source": [
    "# Model comparison\n",
    "## Load requirements\n",
    "### Load Dataset"
   ]
  },
  {
   "cell_type": "code",
   "execution_count": null,
   "metadata": {},
   "outputs": [],
   "source": [
    "import pandas as pd\n",
    "\n",
    "kidney_disease = pd.read_csv(r'Data/clean_dataset.csv')\n",
    "\n",
    "all = kidney_disease.columns.drop('classification')\n",
    "kidney_disease_data = kidney_disease[all]\n",
    "kidney_disease_target = kidney_disease['classification']"
   ]
  },
  {
   "attachments": {},
   "cell_type": "markdown",
   "metadata": {},
   "source": [
    "### Load optimized model parameters"
   ]
  },
  {
   "cell_type": "code",
   "execution_count": null,
   "metadata": {},
   "outputs": [],
   "source": [
    "import json\n",
    "\n",
    "param_file = open('optimized_parameters.json')\n",
    "models = json.load(param_file)\n",
    "param_file.close()"
   ]
  },
  {
   "attachments": {},
   "cell_type": "markdown",
   "metadata": {},
   "source": [
    "### Import all models"
   ]
  },
  {
   "cell_type": "code",
   "execution_count": null,
   "metadata": {},
   "outputs": [],
   "source": [
    "from sklearn.neighbors import KNeighborsClassifier\n",
    "from sklearn.tree import DecisionTreeClassifier\n",
    "from sklearn.ensemble import RandomForestClassifier\n",
    "from sklearn.linear_model import LogisticRegression\n",
    "from sklearn.naive_bayes import GaussianNB\n",
    "from sklearn.discriminant_analysis import LinearDiscriminantAnalysis"
   ]
  },
  {
   "attachments": {},
   "cell_type": "markdown",
   "metadata": {},
   "source": [
    "## Cross-Validation evaluation"
   ]
  },
  {
   "cell_type": "code",
   "execution_count": null,
   "metadata": {},
   "outputs": [],
   "source": [
    "from sklearn.model_selection import cross_val_score\n",
    "from statistics import mean\n",
    "import warnings\n",
    "\n",
    "n_cv_folds = 5\n",
    "models_scores = []\n",
    "for model in models :\n",
    "    model_class =  globals()[model['model_class_name']]\n",
    "    model['model'] = model_class(**model['best_params'])\n",
    "    with warnings.catch_warnings():\n",
    "        warnings.simplefilter(\"ignore\")\n",
    "        cv_scores = cross_val_score(model['model'], kidney_disease_data, kidney_disease_target, cv=n_cv_folds)\n",
    "    model_scores = {'Model': model['name']}\n",
    "    for i, score in enumerate(cv_scores):\n",
    "        model_scores['Fold '+str(i+1)] = score \n",
    "    model_scores['Average'] = mean(cv_scores)\n",
    "    models_scores.append(model_scores)\n",
    "\n",
    "scores_df = pd.DataFrame.from_dict(models_scores)\n",
    "display(scores_df)"
   ]
  },
  {
   "cell_type": "markdown",
   "source": [
    "## Plot visualization"
   ],
   "metadata": {
    "collapsed": false
   }
  },
  {
   "cell_type": "code",
   "execution_count": null,
   "outputs": [],
   "source": [
    "# For now I will plot only the average accuracy of each model in a bar plot\n",
    "import matplotlib as mpl\n",
    "import matplotlib.pyplot as plt\n",
    "\n",
    "## change the dpi for higher quality\n",
    "mpl.rcParams['figure.dpi'] = 180\n",
    "\n",
    "def plot_barh(models, average_scores, k_fold):\n",
    "    fig, ax = plt.subplots(figsize=(10, 5))\n",
    "\n",
    "    # Adjust the bar width and spacing\n",
    "    bar_width = 0.5\n",
    "    spacing = 0.1\n",
    "\n",
    "    # Plot the bars\n",
    "    bars = ax.barh(models, average_scores, height=bar_width, color='lightseagreen')\n",
    "    ax.bar_label(bars, padding=5)\n",
    "    plt.xlabel('Accuracy')\n",
    "    plt.ylabel('Models')\n",
    "    plt.title(f'Average Accuracy of Models with {k_fold} folds cross validation')\n",
    "\n",
    "    # Limit between 0.9 and 1.02\n",
    "    # Note: The specific values (0.9 and 1.02) are arbitrary and can be adjusted as needed\n",
    "    # It is important to choose a small interval to notice the differences in accuracy between the models.\n",
    "    ax.set_xlim([0.9, 1.02])\n",
    "\n",
    "    plt.show()\n",
    "\n",
    "plot_barh(scores_df['Model'], scores_df['Average'], n_cv_folds)"
   ],
   "metadata": {
    "collapsed": false
   }
  },
  {
   "attachments": {},
   "cell_type": "markdown",
   "metadata": {},
   "source": [
    "## Trace RoC curves"
   ]
  },
  {
   "cell_type": "code",
   "execution_count": null,
   "metadata": {},
   "outputs": [],
   "source": [
    "from sklearn.metrics import roc_curve\n",
    "from sklearn.metrics import auc\n",
    "from sklearn.model_selection import train_test_split\n",
    "import matplotlib.pyplot as plt\n",
    "\n",
    "x_train, x_test, y_train, y_test = train_test_split(kidney_disease_data, kidney_disease_target, test_size=0.2)\n",
    "y_test = y_test.map({0: 1, -1: 0}).astype(int)\n",
    "\n",
    "for model in models :\n",
    "    model_class =  globals()[model['model_class_name']]\n",
    "    model['model'] = model_class(**model['best_params'])\n",
    "    model['model'].fit(x_train,y_train)\n",
    "\n",
    "    y_scores = model['model'].predict_proba(x_test)\n",
    "\n",
    "    fpr, tpr, threshold = roc_curve(y_test, y_scores[:, 1])\n",
    "    roc_auc = auc(fpr, tpr)\n",
    "    plt.plot(fpr, tpr, label=model['name']+' (%0.2f AUC)' % roc_auc)\n",
    "\n",
    "\n",
    "plt.title('RoC curves per model')\n",
    "plt.legend(loc = 'lower right')\n",
    "plt.plot([0, 1], [0, 1],'r--')\n",
    "plt.xlim([0, 1])\n",
    "plt.ylim([0, 1])\n",
    "plt.ylabel('True Positive Rate')\n",
    "plt.xlabel('False Positive Rate')\n",
    "plt.show()"
   ]
  }
 ],
 "metadata": {
  "kernelspec": {
   "display_name": "Python 3",
   "language": "python",
   "name": "python3"
  },
  "language_info": {
   "codemirror_mode": {
    "name": "ipython",
    "version": 3
   },
   "file_extension": ".py",
   "mimetype": "text/x-python",
   "name": "python",
   "nbconvert_exporter": "python",
   "pygments_lexer": "ipython3",
   "version": "3.11.2"
  },
  "orig_nbformat": 4
 },
 "nbformat": 4,
 "nbformat_minor": 2
}
